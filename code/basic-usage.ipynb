{
 "cells": [
  {
   "cell_type": "code",
   "execution_count": 1,
   "metadata": {},
   "outputs": [],
   "source": [
    "from pyVHR.analysis.pipeline import Pipeline\n",
    "import matplotlib.pyplot as plt"
   ]
  },
  {
   "cell_type": "code",
   "execution_count": 14,
   "metadata": {},
   "outputs": [
    {
     "name": "stdout",
     "output_type": "stream",
     "text": [
      "# CUDA devices:  1\n",
      "# device number  0 :  NVIDIA GeForce RTX 2060\n",
      "\n",
      "Processing Video: D:\\OneDrive - Heriot-Watt University\\Computer Science Uni\\Year 4\\Datasets\\UBFC_DATASET\\DATASET_2\\subject1\\vid.avi\n",
      "\n",
      "BVP extraction with method: cupy_POS\n",
      "\n",
      "BPM estimation with: welch\n",
      "\n",
      "...done!\n",
      "\n"
     ]
    },
    {
     "data": {
      "image/png": "[encoded data removed]",
      "text/plain": [
       "<Figure size 432x288 with 1 Axes>"
      ]
     },
     "metadata": {
      "needs_background": "light"
     },
     "output_type": "display_data"
    }
   ],
   "source": [
    "videoPath = r'D:\\OneDrive - Heriot-Watt University\\Computer Science Uni\\Year 4\\Datasets\\UBFC_DATASET\\DATASET_2\\subject1\\vid.avi' \n",
    "\n",
    "pipe = Pipeline()\n",
    "time, BPM, uncertainty = pipe.run_on_video(videoPath, roi_approach=\"patches\", roi_method=\"faceparsing\")\n",
    "\n",
    "plt.figure()\n",
    "plt.plot(time, BPM)\n",
    "plt.fill_between(time, BPM-uncertainty, BPM+uncertainty, alpha=0.2)\n",
    "plt.show()"
   ]
  },
  {
   "cell_type": "code",
   "execution_count": null,
   "metadata": {},
   "outputs": [],
   "source": []
  }
 ],
 "metadata": {
  "interpreter": {
   "hash": "efd6481b438f0d4c3c10aea05c2845bcb9db3ae8e5e587d9844e916e8803d502"
  },
  "kernelspec": {
   "display_name": "Python 3.8.12 ('pyvhr')",
   "language": "python",
   "name": "python3"
  },
  "language_info": {
   "codemirror_mode": {
    "name": "ipython",
    "version": 3
   },
   "file_extension": ".py",
   "mimetype": "text/x-python",
   "name": "python",
   "nbconvert_exporter": "python",
   "pygments_lexer": "ipython3",
   "version": "3.8.13"
  },
  "orig_nbformat": 4
 },
 "nbformat": 4,
 "nbformat_minor": 2
}
