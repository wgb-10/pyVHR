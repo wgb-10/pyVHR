{
 "cells": [
  {
   "cell_type": "code",
   "execution_count": 5,
   "metadata": {},
   "outputs": [],
   "source": [
    "from pyVHR.analysis.pipeline import Pipeline\n",
    "import matplotlib.pyplot as plt"
   ]
  },
  {
   "cell_type": "code",
   "execution_count": 4,
   "metadata": {},
   "outputs": [
    {
     "ename": "AssertionError",
     "evalue": "\nThe provided video file does not exists!",
     "output_type": "error",
     "traceback": [
      "\u001b[1;31m---------------------------------------------------------------------------\u001b[0m",
      "\u001b[1;31mAssertionError\u001b[0m                            Traceback (most recent call last)",
      "\u001b[1;32md:\\OneDrive\\Documents\\rPPG-Projects\\MyForks\\pyVHR\\code\\basic-usage.ipynb Cell 2'\u001b[0m in \u001b[0;36m<cell line: 2>\u001b[1;34m()\u001b[0m\n\u001b[0;32m      <a href='vscode-notebook-cell:/d%3A/OneDrive/Documents/rPPG-Projects/MyForks/pyVHR/code/basic-usage.ipynb#ch0000001?line=0'>1</a>\u001b[0m pipe \u001b[39m=\u001b[39m Pipeline()\n\u001b[1;32m----> <a href='vscode-notebook-cell:/d%3A/OneDrive/Documents/rPPG-Projects/MyForks/pyVHR/code/basic-usage.ipynb#ch0000001?line=1'>2</a>\u001b[0m time, BPM, uncertainty \u001b[39m=\u001b[39m pipe\u001b[39m.\u001b[39;49mrun_on_video(\u001b[39m'\u001b[39;49m\u001b[39m/path/to/video\u001b[39;49m\u001b[39m'\u001b[39;49m, roi_approach\u001b[39m=\u001b[39;49m\u001b[39m\"\u001b[39;49m\u001b[39mpatches\u001b[39;49m\u001b[39m\"\u001b[39;49m, roi_method\u001b[39m=\u001b[39;49m\u001b[39m\"\u001b[39;49m\u001b[39mfaceparsing\u001b[39;49m\u001b[39m\"\u001b[39;49m)\n\u001b[0;32m      <a href='vscode-notebook-cell:/d%3A/OneDrive/Documents/rPPG-Projects/MyForks/pyVHR/code/basic-usage.ipynb#ch0000001?line=3'>4</a>\u001b[0m plt\u001b[39m.\u001b[39mfigure()\n\u001b[0;32m      <a href='vscode-notebook-cell:/d%3A/OneDrive/Documents/rPPG-Projects/MyForks/pyVHR/code/basic-usage.ipynb#ch0000001?line=4'>5</a>\u001b[0m plt\u001b[39m.\u001b[39mplot(time, BPM)\n",
      "File \u001b[1;32mD:\\anaconda3\\envs\\pyvhr\\lib\\site-packages\\pyvhr-1.0.2-py3.8.egg\\pyVHR\\analysis\\pipeline.py:63\u001b[0m, in \u001b[0;36mPipeline.run_on_video\u001b[1;34m(self, videoFileName, cuda, roi_method, roi_approach, method, bpm_type, pre_filt, post_filt, verb)\u001b[0m\n\u001b[0;32m     <a href='file:///d%3A/anaconda3/envs/pyvhr/lib/site-packages/pyvhr-1.0.2-py3.8.egg/pyVHR/analysis/pipeline.py?line=32'>33</a>\u001b[0m \u001b[39m\"\"\" \u001b[39;00m\n\u001b[0;32m     <a href='file:///d%3A/anaconda3/envs/pyvhr/lib/site-packages/pyvhr-1.0.2-py3.8.egg/pyVHR/analysis/pipeline.py?line=33'>34</a>\u001b[0m \u001b[39mRuns the pipeline on a specific video file.\u001b[39;00m\n\u001b[0;32m     <a href='file:///d%3A/anaconda3/envs/pyvhr/lib/site-packages/pyvhr-1.0.2-py3.8.egg/pyVHR/analysis/pipeline.py?line=34'>35</a>\u001b[0m \n\u001b[1;32m   (...)\u001b[0m\n\u001b[0;32m     <a href='file:///d%3A/anaconda3/envs/pyvhr/lib/site-packages/pyvhr-1.0.2-py3.8.egg/pyVHR/analysis/pipeline.py?line=59'>60</a>\u001b[0m \u001b[39m       - True - show the main steps  \u001b[39;00m\n\u001b[0;32m     <a href='file:///d%3A/anaconda3/envs/pyvhr/lib/site-packages/pyvhr-1.0.2-py3.8.egg/pyVHR/analysis/pipeline.py?line=60'>61</a>\u001b[0m \u001b[39m\"\"\"\u001b[39;00m\n\u001b[0;32m     <a href='file:///d%3A/anaconda3/envs/pyvhr/lib/site-packages/pyvhr-1.0.2-py3.8.egg/pyVHR/analysis/pipeline.py?line=61'>62</a>\u001b[0m ldmks_list \u001b[39m=\u001b[39m [\u001b[39m2\u001b[39m, \u001b[39m3\u001b[39m, \u001b[39m4\u001b[39m, \u001b[39m5\u001b[39m, \u001b[39m6\u001b[39m, \u001b[39m8\u001b[39m, \u001b[39m9\u001b[39m, \u001b[39m10\u001b[39m, \u001b[39m18\u001b[39m, \u001b[39m21\u001b[39m, \u001b[39m32\u001b[39m, \u001b[39m35\u001b[39m, \u001b[39m36\u001b[39m, \u001b[39m43\u001b[39m, \u001b[39m46\u001b[39m, \u001b[39m47\u001b[39m, \u001b[39m48\u001b[39m, \u001b[39m50\u001b[39m, \u001b[39m54\u001b[39m, \u001b[39m58\u001b[39m, \u001b[39m67\u001b[39m, \u001b[39m68\u001b[39m, \u001b[39m69\u001b[39m, \u001b[39m71\u001b[39m, \u001b[39m92\u001b[39m, \u001b[39m93\u001b[39m, \u001b[39m101\u001b[39m, \u001b[39m103\u001b[39m, \u001b[39m104\u001b[39m, \u001b[39m108\u001b[39m, \u001b[39m109\u001b[39m, \u001b[39m116\u001b[39m, \u001b[39m117\u001b[39m, \u001b[39m118\u001b[39m, \u001b[39m123\u001b[39m, \u001b[39m132\u001b[39m, \u001b[39m134\u001b[39m, \u001b[39m135\u001b[39m, \u001b[39m138\u001b[39m, \u001b[39m139\u001b[39m, \u001b[39m142\u001b[39m, \u001b[39m148\u001b[39m, \u001b[39m149\u001b[39m, \u001b[39m150\u001b[39m, \u001b[39m151\u001b[39m, \u001b[39m152\u001b[39m, \u001b[39m182\u001b[39m, \u001b[39m187\u001b[39m, \u001b[39m188\u001b[39m, \u001b[39m193\u001b[39m, \u001b[39m197\u001b[39m, \u001b[39m201\u001b[39m, \u001b[39m205\u001b[39m, \u001b[39m206\u001b[39m, \u001b[39m207\u001b[39m, \u001b[39m210\u001b[39m, \u001b[39m211\u001b[39m, \u001b[39m212\u001b[39m, \u001b[39m216\u001b[39m, \u001b[39m234\u001b[39m, \u001b[39m248\u001b[39m, \u001b[39m251\u001b[39m, \u001b[39m262\u001b[39m, \u001b[39m265\u001b[39m, \u001b[39m266\u001b[39m, \u001b[39m273\u001b[39m, \u001b[39m277\u001b[39m, \u001b[39m278\u001b[39m, \u001b[39m280\u001b[39m, \u001b[39m284\u001b[39m, \u001b[39m288\u001b[39m, \u001b[39m297\u001b[39m, \u001b[39m299\u001b[39m, \u001b[39m322\u001b[39m, \u001b[39m323\u001b[39m, \u001b[39m330\u001b[39m, \u001b[39m332\u001b[39m, \u001b[39m333\u001b[39m, \u001b[39m337\u001b[39m, \u001b[39m338\u001b[39m, \u001b[39m345\u001b[39m, \u001b[39m346\u001b[39m, \u001b[39m361\u001b[39m, \u001b[39m363\u001b[39m, \u001b[39m364\u001b[39m, \u001b[39m367\u001b[39m, \u001b[39m368\u001b[39m, \u001b[39m371\u001b[39m, \u001b[39m377\u001b[39m, \u001b[39m379\u001b[39m, \u001b[39m411\u001b[39m, \u001b[39m412\u001b[39m, \u001b[39m417\u001b[39m, \u001b[39m421\u001b[39m, \u001b[39m425\u001b[39m, \u001b[39m426\u001b[39m, \u001b[39m427\u001b[39m, \u001b[39m430\u001b[39m, \u001b[39m432\u001b[39m, \u001b[39m436\u001b[39m]\n\u001b[1;32m---> <a href='file:///d%3A/anaconda3/envs/pyvhr/lib/site-packages/pyvhr-1.0.2-py3.8.egg/pyVHR/analysis/pipeline.py?line=62'>63</a>\u001b[0m \u001b[39massert\u001b[39;00m os\u001b[39m.\u001b[39mpath\u001b[39m.\u001b[39misfile(videoFileName), \u001b[39m\"\u001b[39m\u001b[39m\\n\u001b[39;00m\u001b[39mThe provided video file does not exists!\u001b[39m\u001b[39m\"\u001b[39m\n\u001b[0;32m     <a href='file:///d%3A/anaconda3/envs/pyvhr/lib/site-packages/pyvhr-1.0.2-py3.8.egg/pyVHR/analysis/pipeline.py?line=64'>65</a>\u001b[0m sig_processing \u001b[39m=\u001b[39m SignalProcessing()\n\u001b[0;32m     <a href='file:///d%3A/anaconda3/envs/pyvhr/lib/site-packages/pyvhr-1.0.2-py3.8.egg/pyVHR/analysis/pipeline.py?line=65'>66</a>\u001b[0m av_meths \u001b[39m=\u001b[39m getmembers(pyVHR\u001b[39m.\u001b[39mBVP\u001b[39m.\u001b[39mmethods, isfunction)\n",
      "\u001b[1;31mAssertionError\u001b[0m: \nThe provided video file does not exists!"
     ]
    }
   ],
   "source": [
    "pipe = Pipeline()\n",
    "time, BPM, uncertainty = pipe.run_on_video('/path/to/video', roi_approach=\"patches\", roi_method=\"faceparsing\")\n",
    "\n",
    "plt.figure()\n",
    "plt.plot(time, BPM)\n",
    "plt.fill_between(time, BPM-uncertainty, BPM+uncertainty, alpha=0.2)\n",
    "plt.show()"
   ]
  }
 ],
 "metadata": {
  "interpreter": {
   "hash": "efd6481b438f0d4c3c10aea05c2845bcb9db3ae8e5e587d9844e916e8803d502"
  },
  "kernelspec": {
   "display_name": "Python 3.8.12 ('pyvhr')",
   "language": "python",
   "name": "python3"
  },
  "language_info": {
   "codemirror_mode": {
    "name": "ipython",
    "version": 3
   },
   "file_extension": ".py",
   "mimetype": "text/x-python",
   "name": "python",
   "nbconvert_exporter": "python",
   "pygments_lexer": "ipython3",
   "version": "3.8.13"
  },
  "orig_nbformat": 4
 },
 "nbformat": 4,
 "nbformat_minor": 2
}
