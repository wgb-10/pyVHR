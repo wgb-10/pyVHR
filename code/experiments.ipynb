{
 "cells": [
  {
   "cell_type": "code",
   "execution_count": 4,
   "metadata": {},
   "outputs": [],
   "source": [
    "from pyVHR.analysis.pipeline import Pipeline\n",
    "# import matplotlib.pyplot as plt"
   ]
  },
  {
   "cell_type": "markdown",
   "metadata": {},
   "source": [
    "Testing UBFC2 on different methods"
   ]
  },
  {
   "cell_type": "code",
   "execution_count": 1,
   "metadata": {},
   "outputs": [
    {
     "name": "stdout",
     "output_type": "stream",
     "text": [
      "** Run the test with the following config:\n",
      "      dataset: UBFC2\n",
      "      methods: ['CUPY_CHROM_FILTER', 'CUPY_POS_FILTER', 'CPU_PCA_ALL']\n",
      "# CUDA devices:  1\n",
      "# device number  0 :  NVIDIA GeForce RTX 2060\n",
      "\n",
      "## videoID: 0\n",
      "D:\\OneDrive - Heriot-Watt University\\Computer Science Uni\\Year 4\\Datasets\\UBFC_DATASET\\DATASET_2\\subject1\\vid.avi\n",
      "## Computing method: CUPY_CHROM_FILTER\n",
      "  pre-filter: BPFILTER\n",
      "  post-filter: BPFILTER\n",
      "## Computing method: CUPY_POS_FILTER\n",
      "  pre-filter: BPFILTER\n",
      "  post-filter: BPFILTER\n",
      "## Computing method: CPU_PCA_ALL\n"
     ]
    },
    {
     "name": "stderr",
     "output_type": "stream",
     "text": [
      "D:\\anaconda3\\envs\\pyvhr\\lib\\site-packages\\pyvhr-1.0.2-py3.8.egg\\pyVHR\\analysis\\multi_method_suite.py:364: FutureWarning: The frame.append method is deprecated and will be removed from pandas in a future version. Use pandas.concat instead.\n",
      "  self.dataFrame = self.dataFrame.append(\n"
     ]
    },
    {
     "name": "stdout",
     "output_type": "stream",
     "text": [
      "## Results for method: CUPY_CHROM_FILTER\n",
      "\n",
      "    * Errors: RMSE = 1.39, MAE = 1.15, MAX = 3.24, PCC = 0.98, CCC = 0.95, SNR = -2.75\n"
     ]
    },
    {
     "name": "stderr",
     "output_type": "stream",
     "text": [
      "D:\\anaconda3\\envs\\pyvhr\\lib\\site-packages\\pyvhr-1.0.2-py3.8.egg\\pyVHR\\analysis\\multi_method_suite.py:364: FutureWarning: The frame.append method is deprecated and will be removed from pandas in a future version. Use pandas.concat instead.\n",
      "  self.dataFrame = self.dataFrame.append(\n"
     ]
    },
    {
     "name": "stdout",
     "output_type": "stream",
     "text": [
      "## Results for method: CUPY_POS_FILTER\n",
      "\n",
      "    * Errors: RMSE = 5.79, MAE = 4.29, MAX = 14.55, PCC = 0.52, CCC = 0.38, SNR = -2.75\n"
     ]
    },
    {
     "name": "stderr",
     "output_type": "stream",
     "text": [
      "D:\\anaconda3\\envs\\pyvhr\\lib\\site-packages\\pyvhr-1.0.2-py3.8.egg\\pyVHR\\analysis\\multi_method_suite.py:364: FutureWarning: The frame.append method is deprecated and will be removed from pandas in a future version. Use pandas.concat instead.\n",
      "  self.dataFrame = self.dataFrame.append(\n"
     ]
    },
    {
     "name": "stdout",
     "output_type": "stream",
     "text": [
      "## Results for method: CPU_PCA_ALL\n",
      "\n",
      "    * Errors: RMSE = 3.77, MAE = 1.51, MAX = 24.48, PCC = 0.75, CCC = 0.73, SNR = -2.75\n"
     ]
    },
    {
     "name": "stderr",
     "output_type": "stream",
     "text": [
      "D:\\anaconda3\\envs\\pyvhr\\lib\\site-packages\\pyvhr-1.0.2-py3.8.egg\\pyVHR\\analysis\\multi_method_suite.py:364: FutureWarning: The frame.append method is deprecated and will be removed from pandas in a future version. Use pandas.concat instead.\n",
      "  self.dataFrame = self.dataFrame.append(\n"
     ]
    },
    {
     "name": "stdout",
     "output_type": "stream",
     "text": [
      "## Results for method: Multi-Method\n",
      "\n",
      "    * Errors: RMSE = 1.09, MAE = 0.88, MAX = 2.38, PCC = 0.98, CCC = 0.97, SNR = -2.75\n",
      "\n",
      "## videoID: 1\n",
      "D:\\OneDrive - Heriot-Watt University\\Computer Science Uni\\Year 4\\Datasets\\UBFC_DATASET\\DATASET_2\\subject10\\vid.avi\n",
      "## Computing method: CUPY_CHROM_FILTER\n",
      "  pre-filter: BPFILTER\n",
      "  post-filter: BPFILTER\n",
      "## Computing method: CUPY_POS_FILTER\n",
      "  pre-filter: BPFILTER\n",
      "  post-filter: BPFILTER\n",
      "## Computing method: CPU_PCA_ALL\n"
     ]
    },
    {
     "name": "stderr",
     "output_type": "stream",
     "text": [
      "D:\\anaconda3\\envs\\pyvhr\\lib\\site-packages\\pyvhr-1.0.2-py3.8.egg\\pyVHR\\analysis\\multi_method_suite.py:364: FutureWarning: The frame.append method is deprecated and will be removed from pandas in a future version. Use pandas.concat instead.\n",
      "  self.dataFrame = self.dataFrame.append(\n"
     ]
    },
    {
     "name": "stdout",
     "output_type": "stream",
     "text": [
      "## Results for method: CUPY_CHROM_FILTER\n",
      "\n",
      "    * Errors: RMSE = 1.17, MAE = 0.93, MAX = 2.84, PCC = 0.99, CCC = 0.99, SNR = -1.83\n"
     ]
    },
    {
     "name": "stderr",
     "output_type": "stream",
     "text": [
      "D:\\anaconda3\\envs\\pyvhr\\lib\\site-packages\\pyvhr-1.0.2-py3.8.egg\\pyVHR\\analysis\\multi_method_suite.py:364: FutureWarning: The frame.append method is deprecated and will be removed from pandas in a future version. Use pandas.concat instead.\n",
      "  self.dataFrame = self.dataFrame.append(\n"
     ]
    },
    {
     "name": "stdout",
     "output_type": "stream",
     "text": [
      "## Results for method: CUPY_POS_FILTER\n",
      "\n",
      "    * Errors: RMSE = 8.38, MAE = 6.92, MAX = 17.66, PCC = 0.85, CCC = 0.66, SNR = -1.83\n"
     ]
    },
    {
     "name": "stderr",
     "output_type": "stream",
     "text": [
      "D:\\anaconda3\\envs\\pyvhr\\lib\\site-packages\\pyvhr-1.0.2-py3.8.egg\\pyVHR\\analysis\\multi_method_suite.py:364: FutureWarning: The frame.append method is deprecated and will be removed from pandas in a future version. Use pandas.concat instead.\n",
      "  self.dataFrame = self.dataFrame.append(\n"
     ]
    },
    {
     "name": "stdout",
     "output_type": "stream",
     "text": [
      "## Results for method: CPU_PCA_ALL\n",
      "\n",
      "    * Errors: RMSE = 13.45, MAE = 4.42, MAX = 63.48, PCC = 0.49, CCC = 0.42, SNR = -1.83\n"
     ]
    },
    {
     "name": "stderr",
     "output_type": "stream",
     "text": [
      "D:\\anaconda3\\envs\\pyvhr\\lib\\site-packages\\pyvhr-1.0.2-py3.8.egg\\pyVHR\\analysis\\multi_method_suite.py:364: FutureWarning: The frame.append method is deprecated and will be removed from pandas in a future version. Use pandas.concat instead.\n",
      "  self.dataFrame = self.dataFrame.append(\n"
     ]
    },
    {
     "name": "stdout",
     "output_type": "stream",
     "text": [
      "## Results for method: Multi-Method\n",
      "\n",
      "    * Errors: RMSE = 2.57, MAE = 1.65, MAX = 13.91, PCC = 0.97, CCC = 0.96, SNR = -1.83\n",
      "\n",
      "## videoID: 2\n",
      "D:\\OneDrive - Heriot-Watt University\\Computer Science Uni\\Year 4\\Datasets\\UBFC_DATASET\\DATASET_2\\subject11\\vid.avi\n",
      "## Computing method: CUPY_CHROM_FILTER\n",
      "  pre-filter: BPFILTER\n",
      "  post-filter: BPFILTER\n",
      "## Computing method: CUPY_POS_FILTER\n",
      "  pre-filter: BPFILTER\n",
      "  post-filter: BPFILTER\n",
      "## Computing method: CPU_PCA_ALL\n"
     ]
    },
    {
     "name": "stderr",
     "output_type": "stream",
     "text": [
      "D:\\anaconda3\\envs\\pyvhr\\lib\\site-packages\\pyvhr-1.0.2-py3.8.egg\\pyVHR\\analysis\\multi_method_suite.py:364: FutureWarning: The frame.append method is deprecated and will be removed from pandas in a future version. Use pandas.concat instead.\n",
      "  self.dataFrame = self.dataFrame.append(\n"
     ]
    },
    {
     "name": "stdout",
     "output_type": "stream",
     "text": [
      "## Results for method: CUPY_CHROM_FILTER\n",
      "\n",
      "    * Errors: RMSE = 2.06, MAE = 1.68, MAX = 5.57, PCC = 0.95, CCC = 0.93, SNR = -5.02\n"
     ]
    },
    {
     "name": "stderr",
     "output_type": "stream",
     "text": [
      "D:\\anaconda3\\envs\\pyvhr\\lib\\site-packages\\pyvhr-1.0.2-py3.8.egg\\pyVHR\\analysis\\multi_method_suite.py:364: FutureWarning: The frame.append method is deprecated and will be removed from pandas in a future version. Use pandas.concat instead.\n",
      "  self.dataFrame = self.dataFrame.append(\n"
     ]
    },
    {
     "name": "stdout",
     "output_type": "stream",
     "text": [
      "## Results for method: CUPY_POS_FILTER\n",
      "\n",
      "    * Errors: RMSE = 30.80, MAE = 24.89, MAX = 63.56, PCC = -0.16, CCC = -0.03, SNR = -5.02\n"
     ]
    },
    {
     "name": "stderr",
     "output_type": "stream",
     "text": [
      "D:\\anaconda3\\envs\\pyvhr\\lib\\site-packages\\pyvhr-1.0.2-py3.8.egg\\pyVHR\\analysis\\multi_method_suite.py:364: FutureWarning: The frame.append method is deprecated and will be removed from pandas in a future version. Use pandas.concat instead.\n",
      "  self.dataFrame = self.dataFrame.append(\n"
     ]
    },
    {
     "name": "stdout",
     "output_type": "stream",
     "text": [
      "## Results for method: CPU_PCA_ALL\n",
      "\n",
      "    * Errors: RMSE = 51.14, MAE = 35.68, MAX = 88.36, PCC = -0.21, CCC = -0.03, SNR = -5.02\n"
     ]
    },
    {
     "name": "stderr",
     "output_type": "stream",
     "text": [
      "D:\\anaconda3\\envs\\pyvhr\\lib\\site-packages\\pyvhr-1.0.2-py3.8.egg\\pyVHR\\analysis\\multi_method_suite.py:364: FutureWarning: The frame.append method is deprecated and will be removed from pandas in a future version. Use pandas.concat instead.\n",
      "  self.dataFrame = self.dataFrame.append(\n"
     ]
    },
    {
     "name": "stdout",
     "output_type": "stream",
     "text": [
      "## Results for method: Multi-Method\n",
      "\n",
      "    * Errors: RMSE = 32.05, MAE = 20.09, MAX = 71.83, PCC = -0.25, CCC = -0.06, SNR = -5.02\n",
      "\n",
      "## videoID: 3\n",
      "D:\\OneDrive - Heriot-Watt University\\Computer Science Uni\\Year 4\\Datasets\\UBFC_DATASET\\DATASET_2\\subject12\\vid.avi\n",
      "## Computing method: CUPY_CHROM_FILTER\n",
      "  pre-filter: BPFILTER\n",
      "  post-filter: BPFILTER\n",
      "## Computing method: CUPY_POS_FILTER\n",
      "  pre-filter: BPFILTER\n",
      "  post-filter: BPFILTER\n",
      "## Computing method: CPU_PCA_ALL\n"
     ]
    },
    {
     "name": "stderr",
     "output_type": "stream",
     "text": [
      "D:\\anaconda3\\envs\\pyvhr\\lib\\site-packages\\pyvhr-1.0.2-py3.8.egg\\pyVHR\\analysis\\multi_method_suite.py:364: FutureWarning: The frame.append method is deprecated and will be removed from pandas in a future version. Use pandas.concat instead.\n",
      "  self.dataFrame = self.dataFrame.append(\n"
     ]
    },
    {
     "name": "stdout",
     "output_type": "stream",
     "text": [
      "## Results for method: CUPY_CHROM_FILTER\n",
      "\n",
      "    * Errors: RMSE = 2.31, MAE = 1.47, MAX = 11.67, PCC = 0.61, CCC = 0.59, SNR = -0.25\n"
     ]
    },
    {
     "name": "stderr",
     "output_type": "stream",
     "text": [
      "D:\\anaconda3\\envs\\pyvhr\\lib\\site-packages\\pyvhr-1.0.2-py3.8.egg\\pyVHR\\analysis\\multi_method_suite.py:364: FutureWarning: The frame.append method is deprecated and will be removed from pandas in a future version. Use pandas.concat instead.\n",
      "  self.dataFrame = self.dataFrame.append(\n"
     ]
    },
    {
     "name": "stdout",
     "output_type": "stream",
     "text": [
      "## Results for method: CUPY_POS_FILTER\n",
      "\n",
      "    * Errors: RMSE = 8.70, MAE = 8.11, MAX = 13.74, PCC = -0.22, CCC = -0.05, SNR = -0.25\n"
     ]
    },
    {
     "name": "stderr",
     "output_type": "stream",
     "text": [
      "D:\\anaconda3\\envs\\pyvhr\\lib\\site-packages\\pyvhr-1.0.2-py3.8.egg\\pyVHR\\analysis\\multi_method_suite.py:364: FutureWarning: The frame.append method is deprecated and will be removed from pandas in a future version. Use pandas.concat instead.\n",
      "  self.dataFrame = self.dataFrame.append(\n"
     ]
    },
    {
     "name": "stdout",
     "output_type": "stream",
     "text": [
      "## Results for method: CPU_PCA_ALL\n",
      "\n",
      "    * Errors: RMSE = 10.83, MAE = 6.01, MAX = 26.98, PCC = -0.15, CCC = -0.05, SNR = -0.25\n"
     ]
    },
    {
     "name": "stderr",
     "output_type": "stream",
     "text": [
      "D:\\anaconda3\\envs\\pyvhr\\lib\\site-packages\\pyvhr-1.0.2-py3.8.egg\\pyVHR\\analysis\\multi_method_suite.py:364: FutureWarning: The frame.append method is deprecated and will be removed from pandas in a future version. Use pandas.concat instead.\n",
      "  self.dataFrame = self.dataFrame.append(\n"
     ]
    },
    {
     "name": "stdout",
     "output_type": "stream",
     "text": [
      "## Results for method: Multi-Method\n",
      "\n",
      "    * Errors: RMSE = 4.49, MAE = 2.63, MAX = 16.77, PCC = 0.02, CCC = 0.02, SNR = -0.25\n",
      "\n",
      "## videoID: 4\n",
      "D:\\OneDrive - Heriot-Watt University\\Computer Science Uni\\Year 4\\Datasets\\UBFC_DATASET\\DATASET_2\\subject13\\vid.avi\n",
      "## Computing method: CUPY_CHROM_FILTER\n",
      "  pre-filter: BPFILTER\n",
      "  post-filter: BPFILTER\n",
      "## Computing method: CUPY_POS_FILTER\n",
      "  pre-filter: BPFILTER\n",
      "  post-filter: BPFILTER\n",
      "## Computing method: CPU_PCA_ALL\n"
     ]
    },
    {
     "name": "stderr",
     "output_type": "stream",
     "text": [
      "D:\\anaconda3\\envs\\pyvhr\\lib\\site-packages\\pyvhr-1.0.2-py3.8.egg\\pyVHR\\analysis\\multi_method_suite.py:364: FutureWarning: The frame.append method is deprecated and will be removed from pandas in a future version. Use pandas.concat instead.\n",
      "  self.dataFrame = self.dataFrame.append(\n"
     ]
    },
    {
     "name": "stdout",
     "output_type": "stream",
     "text": [
      "## Results for method: CUPY_CHROM_FILTER\n",
      "\n",
      "    * Errors: RMSE = 1.35, MAE = 1.12, MAX = 3.54, PCC = 0.99, CCC = 0.98, SNR = -3.04\n"
     ]
    },
    {
     "name": "stderr",
     "output_type": "stream",
     "text": [
      "D:\\anaconda3\\envs\\pyvhr\\lib\\site-packages\\pyvhr-1.0.2-py3.8.egg\\pyVHR\\analysis\\multi_method_suite.py:364: FutureWarning: The frame.append method is deprecated and will be removed from pandas in a future version. Use pandas.concat instead.\n",
      "  self.dataFrame = self.dataFrame.append(\n"
     ]
    },
    {
     "name": "stdout",
     "output_type": "stream",
     "text": [
      "## Results for method: CUPY_POS_FILTER\n",
      "\n",
      "    * Errors: RMSE = 9.10, MAE = 6.93, MAX = 29.72, PCC = 0.66, CCC = 0.46, SNR = -3.04\n"
     ]
    },
    {
     "name": "stderr",
     "output_type": "stream",
     "text": [
      "D:\\anaconda3\\envs\\pyvhr\\lib\\site-packages\\pyvhr-1.0.2-py3.8.egg\\pyVHR\\analysis\\multi_method_suite.py:364: FutureWarning: The frame.append method is deprecated and will be removed from pandas in a future version. Use pandas.concat instead.\n",
      "  self.dataFrame = self.dataFrame.append(\n"
     ]
    },
    {
     "name": "stdout",
     "output_type": "stream",
     "text": [
      "## Results for method: CPU_PCA_ALL\n",
      "\n",
      "    * Errors: RMSE = 6.94, MAE = 3.46, MAX = 44.00, PCC = 0.80, CCC = 0.73, SNR = -3.04\n"
     ]
    },
    {
     "name": "stderr",
     "output_type": "stream",
     "text": [
      "D:\\anaconda3\\envs\\pyvhr\\lib\\site-packages\\pyvhr-1.0.2-py3.8.egg\\pyVHR\\analysis\\multi_method_suite.py:364: FutureWarning: The frame.append method is deprecated and will be removed from pandas in a future version. Use pandas.concat instead.\n",
      "  self.dataFrame = self.dataFrame.append(\n"
     ]
    },
    {
     "name": "stdout",
     "output_type": "stream",
     "text": [
      "## Results for method: Multi-Method\n",
      "\n",
      "    * Errors: RMSE = 3.67, MAE = 2.07, MAX = 22.18, PCC = 0.93, CCC = 0.90, SNR = -3.04\n",
      "\n",
      "## videoID: 5\n",
      "D:\\OneDrive - Heriot-Watt University\\Computer Science Uni\\Year 4\\Datasets\\UBFC_DATASET\\DATASET_2\\subject14\\vid.avi\n",
      "## Computing method: CUPY_CHROM_FILTER\n",
      "  pre-filter: BPFILTER\n",
      "  post-filter: BPFILTER\n",
      "## Computing method: CUPY_POS_FILTER\n",
      "  pre-filter: BPFILTER\n",
      "  post-filter: BPFILTER\n",
      "## Computing method: CPU_PCA_ALL\n"
     ]
    },
    {
     "name": "stderr",
     "output_type": "stream",
     "text": [
      "D:\\anaconda3\\envs\\pyvhr\\lib\\site-packages\\pyvhr-1.0.2-py3.8.egg\\pyVHR\\analysis\\multi_method_suite.py:364: FutureWarning: The frame.append method is deprecated and will be removed from pandas in a future version. Use pandas.concat instead.\n",
      "  self.dataFrame = self.dataFrame.append(\n"
     ]
    },
    {
     "name": "stdout",
     "output_type": "stream",
     "text": [
      "## Results for method: CUPY_CHROM_FILTER\n",
      "\n",
      "    * Errors: RMSE = 6.73, MAE = 3.45, MAX = 42.08, PCC = 0.63, CCC = 0.63, SNR = -2.44\n"
     ]
    },
    {
     "name": "stderr",
     "output_type": "stream",
     "text": [
      "D:\\anaconda3\\envs\\pyvhr\\lib\\site-packages\\pyvhr-1.0.2-py3.8.egg\\pyVHR\\analysis\\multi_method_suite.py:364: FutureWarning: The frame.append method is deprecated and will be removed from pandas in a future version. Use pandas.concat instead.\n",
      "  self.dataFrame = self.dataFrame.append(\n"
     ]
    },
    {
     "name": "stdout",
     "output_type": "stream",
     "text": [
      "## Results for method: CUPY_POS_FILTER\n",
      "\n",
      "    * Errors: RMSE = 9.44, MAE = 7.66, MAX = 26.59, PCC = 0.29, CCC = 0.20, SNR = -2.44\n"
     ]
    },
    {
     "name": "stderr",
     "output_type": "stream",
     "text": [
      "D:\\anaconda3\\envs\\pyvhr\\lib\\site-packages\\pyvhr-1.0.2-py3.8.egg\\pyVHR\\analysis\\multi_method_suite.py:364: FutureWarning: The frame.append method is deprecated and will be removed from pandas in a future version. Use pandas.concat instead.\n",
      "  self.dataFrame = self.dataFrame.append(\n"
     ]
    },
    {
     "name": "stdout",
     "output_type": "stream",
     "text": [
      "## Results for method: CPU_PCA_ALL\n",
      "\n",
      "    * Errors: RMSE = 16.49, MAE = 11.39, MAX = 47.67, PCC = 0.34, CCC = 0.20, SNR = -2.44\n"
     ]
    },
    {
     "name": "stderr",
     "output_type": "stream",
     "text": [
      "D:\\anaconda3\\envs\\pyvhr\\lib\\site-packages\\pyvhr-1.0.2-py3.8.egg\\pyVHR\\analysis\\multi_method_suite.py:364: FutureWarning: The frame.append method is deprecated and will be removed from pandas in a future version. Use pandas.concat instead.\n",
      "  self.dataFrame = self.dataFrame.append(\n"
     ]
    },
    {
     "name": "stdout",
     "output_type": "stream",
     "text": [
      "## Results for method: Multi-Method\n",
      "\n",
      "    * Errors: RMSE = 8.27, MAE = 4.41, MAX = 42.08, PCC = 0.46, CCC = 0.43, SNR = -2.44\n",
      "\n",
      "## videoID: 6\n",
      "D:\\OneDrive - Heriot-Watt University\\Computer Science Uni\\Year 4\\Datasets\\UBFC_DATASET\\DATASET_2\\subject15\\vid.avi\n",
      "## Computing method: CUPY_CHROM_FILTER\n",
      "  pre-filter: BPFILTER\n",
      "  post-filter: BPFILTER\n",
      "## Computing method: CUPY_POS_FILTER\n",
      "  pre-filter: BPFILTER\n",
      "  post-filter: BPFILTER\n",
      "## Computing method: CPU_PCA_ALL\n"
     ]
    },
    {
     "name": "stderr",
     "output_type": "stream",
     "text": [
      "D:\\anaconda3\\envs\\pyvhr\\lib\\site-packages\\pyvhr-1.0.2-py3.8.egg\\pyVHR\\analysis\\multi_method_suite.py:364: FutureWarning: The frame.append method is deprecated and will be removed from pandas in a future version. Use pandas.concat instead.\n",
      "  self.dataFrame = self.dataFrame.append(\n"
     ]
    },
    {
     "name": "stdout",
     "output_type": "stream",
     "text": [
      "## Results for method: CUPY_CHROM_FILTER\n",
      "\n",
      "    * Errors: RMSE = 3.23, MAE = 2.16, MAX = 17.64, PCC = 0.81, CCC = 0.73, SNR = -4.28\n"
     ]
    },
    {
     "name": "stderr",
     "output_type": "stream",
     "text": [
      "D:\\anaconda3\\envs\\pyvhr\\lib\\site-packages\\pyvhr-1.0.2-py3.8.egg\\pyVHR\\analysis\\multi_method_suite.py:364: FutureWarning: The frame.append method is deprecated and will be removed from pandas in a future version. Use pandas.concat instead.\n",
      "  self.dataFrame = self.dataFrame.append(\n"
     ]
    },
    {
     "name": "stdout",
     "output_type": "stream",
     "text": [
      "## Results for method: CUPY_POS_FILTER\n",
      "\n",
      "    * Errors: RMSE = 12.78, MAE = 10.83, MAX = 28.91, PCC = 0.23, CCC = 0.08, SNR = -4.28\n"
     ]
    },
    {
     "name": "stderr",
     "output_type": "stream",
     "text": [
      "D:\\anaconda3\\envs\\pyvhr\\lib\\site-packages\\pyvhr-1.0.2-py3.8.egg\\pyVHR\\analysis\\multi_method_suite.py:364: FutureWarning: The frame.append method is deprecated and will be removed from pandas in a future version. Use pandas.concat instead.\n",
      "  self.dataFrame = self.dataFrame.append(\n"
     ]
    },
    {
     "name": "stdout",
     "output_type": "stream",
     "text": [
      "## Results for method: CPU_PCA_ALL\n",
      "\n",
      "    * Errors: RMSE = 18.96, MAE = 8.47, MAX = 79.02, PCC = -0.08, CCC = -0.03, SNR = -4.28\n"
     ]
    },
    {
     "name": "stderr",
     "output_type": "stream",
     "text": [
      "D:\\anaconda3\\envs\\pyvhr\\lib\\site-packages\\pyvhr-1.0.2-py3.8.egg\\pyVHR\\analysis\\multi_method_suite.py:364: FutureWarning: The frame.append method is deprecated and will be removed from pandas in a future version. Use pandas.concat instead.\n",
      "  self.dataFrame = self.dataFrame.append(\n"
     ]
    },
    {
     "name": "stdout",
     "output_type": "stream",
     "text": [
      "## Results for method: Multi-Method\n",
      "\n",
      "    * Errors: RMSE = 14.98, MAE = 6.09, MAX = 70.09, PCC = -0.02, CCC = -0.01, SNR = -4.28\n",
      "\n",
      "## videoID: 7\n",
      "D:\\OneDrive - Heriot-Watt University\\Computer Science Uni\\Year 4\\Datasets\\UBFC_DATASET\\DATASET_2\\subject16\\vid.avi\n",
      "## Computing method: CUPY_CHROM_FILTER\n",
      "  pre-filter: BPFILTER\n",
      "  post-filter: BPFILTER\n",
      "## Computing method: CUPY_POS_FILTER\n",
      "  pre-filter: BPFILTER\n",
      "  post-filter: BPFILTER\n",
      "## Computing method: CPU_PCA_ALL\n"
     ]
    },
    {
     "name": "stderr",
     "output_type": "stream",
     "text": [
      "D:\\anaconda3\\envs\\pyvhr\\lib\\site-packages\\pyvhr-1.0.2-py3.8.egg\\pyVHR\\analysis\\multi_method_suite.py:364: FutureWarning: The frame.append method is deprecated and will be removed from pandas in a future version. Use pandas.concat instead.\n",
      "  self.dataFrame = self.dataFrame.append(\n"
     ]
    },
    {
     "name": "stdout",
     "output_type": "stream",
     "text": [
      "## Results for method: CUPY_CHROM_FILTER\n",
      "\n",
      "    * Errors: RMSE = 0.91, MAE = 0.65, MAX = 3.19, PCC = 0.97, CCC = 0.96, SNR = -2.37\n"
     ]
    },
    {
     "name": "stderr",
     "output_type": "stream",
     "text": [
      "D:\\anaconda3\\envs\\pyvhr\\lib\\site-packages\\pyvhr-1.0.2-py3.8.egg\\pyVHR\\analysis\\multi_method_suite.py:364: FutureWarning: The frame.append method is deprecated and will be removed from pandas in a future version. Use pandas.concat instead.\n",
      "  self.dataFrame = self.dataFrame.append(\n"
     ]
    },
    {
     "name": "stdout",
     "output_type": "stream",
     "text": [
      "## Results for method: CUPY_POS_FILTER\n",
      "\n",
      "    * Errors: RMSE = 4.86, MAE = 3.59, MAX = 17.13, PCC = 0.56, CCC = 0.38, SNR = -2.37\n"
     ]
    },
    {
     "name": "stderr",
     "output_type": "stream",
     "text": [
      "D:\\anaconda3\\envs\\pyvhr\\lib\\site-packages\\pyvhr-1.0.2-py3.8.egg\\pyVHR\\analysis\\multi_method_suite.py:364: FutureWarning: The frame.append method is deprecated and will be removed from pandas in a future version. Use pandas.concat instead.\n",
      "  self.dataFrame = self.dataFrame.append(\n"
     ]
    },
    {
     "name": "stdout",
     "output_type": "stream",
     "text": [
      "## Results for method: CPU_PCA_ALL\n",
      "\n",
      "    * Errors: RMSE = 17.56, MAE = 8.26, MAX = 56.91, PCC = -0.03, CCC = -0.01, SNR = -2.37\n"
     ]
    },
    {
     "name": "stderr",
     "output_type": "stream",
     "text": [
      "D:\\anaconda3\\envs\\pyvhr\\lib\\site-packages\\pyvhr-1.0.2-py3.8.egg\\pyVHR\\analysis\\multi_method_suite.py:364: FutureWarning: The frame.append method is deprecated and will be removed from pandas in a future version. Use pandas.concat instead.\n",
      "  self.dataFrame = self.dataFrame.append(\n"
     ]
    },
    {
     "name": "stdout",
     "output_type": "stream",
     "text": [
      "## Results for method: Multi-Method\n",
      "\n",
      "    * Errors: RMSE = 10.07, MAE = 3.84, MAX = 43.88, PCC = 0.07, CCC = 0.04, SNR = -2.37\n",
      "\n",
      "## videoID: 8\n",
      "D:\\OneDrive - Heriot-Watt University\\Computer Science Uni\\Year 4\\Datasets\\UBFC_DATASET\\DATASET_2\\subject17\\vid.avi\n",
      "## Computing method: CUPY_CHROM_FILTER\n",
      "  pre-filter: BPFILTER\n",
      "  post-filter: BPFILTER\n",
      "## Computing method: CUPY_POS_FILTER\n",
      "  pre-filter: BPFILTER\n",
      "  post-filter: BPFILTER\n",
      "## Computing method: CPU_PCA_ALL\n"
     ]
    },
    {
     "name": "stderr",
     "output_type": "stream",
     "text": [
      "D:\\anaconda3\\envs\\pyvhr\\lib\\site-packages\\pyvhr-1.0.2-py3.8.egg\\pyVHR\\analysis\\multi_method_suite.py:364: FutureWarning: The frame.append method is deprecated and will be removed from pandas in a future version. Use pandas.concat instead.\n",
      "  self.dataFrame = self.dataFrame.append(\n"
     ]
    },
    {
     "name": "stdout",
     "output_type": "stream",
     "text": [
      "## Results for method: CUPY_CHROM_FILTER\n",
      "\n",
      "    * Errors: RMSE = 2.37, MAE = 1.14, MAX = 15.71, PCC = 0.78, CCC = 0.76, SNR = -2.67\n"
     ]
    },
    {
     "name": "stderr",
     "output_type": "stream",
     "text": [
      "D:\\anaconda3\\envs\\pyvhr\\lib\\site-packages\\pyvhr-1.0.2-py3.8.egg\\pyVHR\\analysis\\multi_method_suite.py:364: FutureWarning: The frame.append method is deprecated and will be removed from pandas in a future version. Use pandas.concat instead.\n",
      "  self.dataFrame = self.dataFrame.append(\n"
     ]
    },
    {
     "name": "stdout",
     "output_type": "stream",
     "text": [
      "## Results for method: CUPY_POS_FILTER\n",
      "\n",
      "    * Errors: RMSE = 3.05, MAE = 2.28, MAX = 9.58, PCC = 0.75, CCC = 0.67, SNR = -2.67\n"
     ]
    },
    {
     "name": "stderr",
     "output_type": "stream",
     "text": [
      "D:\\anaconda3\\envs\\pyvhr\\lib\\site-packages\\pyvhr-1.0.2-py3.8.egg\\pyVHR\\analysis\\multi_method_suite.py:364: FutureWarning: The frame.append method is deprecated and will be removed from pandas in a future version. Use pandas.concat instead.\n",
      "  self.dataFrame = self.dataFrame.append(\n"
     ]
    },
    {
     "name": "stdout",
     "output_type": "stream",
     "text": [
      "## Results for method: CPU_PCA_ALL\n",
      "\n",
      "    * Errors: RMSE = 18.46, MAE = 10.13, MAX = 49.28, PCC = -0.16, CCC = -0.04, SNR = -2.67\n"
     ]
    },
    {
     "name": "stderr",
     "output_type": "stream",
     "text": [
      "D:\\anaconda3\\envs\\pyvhr\\lib\\site-packages\\pyvhr-1.0.2-py3.8.egg\\pyVHR\\analysis\\multi_method_suite.py:364: FutureWarning: The frame.append method is deprecated and will be removed from pandas in a future version. Use pandas.concat instead.\n",
      "  self.dataFrame = self.dataFrame.append(\n"
     ]
    },
    {
     "name": "stdout",
     "output_type": "stream",
     "text": [
      "## Results for method: Multi-Method\n",
      "\n",
      "    * Errors: RMSE = 8.07, MAE = 3.72, MAX = 28.87, PCC = 0.32, CCC = 0.19, SNR = -2.67\n",
      "\n",
      "## videoID: 9\n",
      "D:\\OneDrive - Heriot-Watt University\\Computer Science Uni\\Year 4\\Datasets\\UBFC_DATASET\\DATASET_2\\subject18\\vid.avi\n",
      "## Computing method: CUPY_CHROM_FILTER\n",
      "  pre-filter: BPFILTER\n",
      "  post-filter: BPFILTER\n",
      "## Computing method: CUPY_POS_FILTER\n",
      "  pre-filter: BPFILTER\n",
      "  post-filter: BPFILTER\n",
      "## Computing method: CPU_PCA_ALL\n"
     ]
    },
    {
     "name": "stderr",
     "output_type": "stream",
     "text": [
      "D:\\anaconda3\\envs\\pyvhr\\lib\\site-packages\\pyvhr-1.0.2-py3.8.egg\\pyVHR\\analysis\\multi_method_suite.py:364: FutureWarning: The frame.append method is deprecated and will be removed from pandas in a future version. Use pandas.concat instead.\n",
      "  self.dataFrame = self.dataFrame.append(\n"
     ]
    },
    {
     "name": "stdout",
     "output_type": "stream",
     "text": [
      "## Results for method: CUPY_CHROM_FILTER\n",
      "\n",
      "    * Errors: RMSE = 1.71, MAE = 1.36, MAX = 5.82, PCC = 0.99, CCC = 0.98, SNR = -3.97\n"
     ]
    },
    {
     "name": "stderr",
     "output_type": "stream",
     "text": [
      "D:\\anaconda3\\envs\\pyvhr\\lib\\site-packages\\pyvhr-1.0.2-py3.8.egg\\pyVHR\\analysis\\multi_method_suite.py:364: FutureWarning: The frame.append method is deprecated and will be removed from pandas in a future version. Use pandas.concat instead.\n",
      "  self.dataFrame = self.dataFrame.append(\n"
     ]
    },
    {
     "name": "stdout",
     "output_type": "stream",
     "text": [
      "## Results for method: CUPY_POS_FILTER\n",
      "\n",
      "    * Errors: RMSE = 14.46, MAE = 9.73, MAX = 41.40, PCC = 0.40, CCC = 0.26, SNR = -3.97\n"
     ]
    },
    {
     "name": "stderr",
     "output_type": "stream",
     "text": [
      "D:\\anaconda3\\envs\\pyvhr\\lib\\site-packages\\pyvhr-1.0.2-py3.8.egg\\pyVHR\\analysis\\multi_method_suite.py:364: FutureWarning: The frame.append method is deprecated and will be removed from pandas in a future version. Use pandas.concat instead.\n",
      "  self.dataFrame = self.dataFrame.append(\n"
     ]
    },
    {
     "name": "stdout",
     "output_type": "stream",
     "text": [
      "## Results for method: CPU_PCA_ALL\n",
      "\n",
      "    * Errors: RMSE = 36.20, MAE = 21.30, MAX = 88.80, PCC = 0.05, CCC = 0.02, SNR = -3.97\n"
     ]
    },
    {
     "name": "stderr",
     "output_type": "stream",
     "text": [
      "D:\\anaconda3\\envs\\pyvhr\\lib\\site-packages\\pyvhr-1.0.2-py3.8.egg\\pyVHR\\analysis\\multi_method_suite.py:364: FutureWarning: The frame.append method is deprecated and will be removed from pandas in a future version. Use pandas.concat instead.\n",
      "  self.dataFrame = self.dataFrame.append(\n"
     ]
    },
    {
     "name": "stdout",
     "output_type": "stream",
     "text": [
      "## Results for method: Multi-Method\n",
      "\n",
      "    * Errors: RMSE = 16.06, MAE = 7.95, MAX = 52.73, PCC = 0.38, CCC = 0.27, SNR = -3.97\n",
      "\n",
      "## videoID: 10\n",
      "D:\\OneDrive - Heriot-Watt University\\Computer Science Uni\\Year 4\\Datasets\\UBFC_DATASET\\DATASET_2\\subject20\\vid.avi\n",
      "## Computing method: CUPY_CHROM_FILTER\n",
      "  pre-filter: BPFILTER\n",
      "  post-filter: BPFILTER\n",
      "## Computing method: CUPY_POS_FILTER\n",
      "  pre-filter: BPFILTER\n",
      "  post-filter: BPFILTER\n",
      "## Computing method: CPU_PCA_ALL\n"
     ]
    },
    {
     "name": "stderr",
     "output_type": "stream",
     "text": [
      "D:\\anaconda3\\envs\\pyvhr\\lib\\site-packages\\pyvhr-1.0.2-py3.8.egg\\pyVHR\\analysis\\multi_method_suite.py:364: FutureWarning: The frame.append method is deprecated and will be removed from pandas in a future version. Use pandas.concat instead.\n",
      "  self.dataFrame = self.dataFrame.append(\n"
     ]
    },
    {
     "name": "stdout",
     "output_type": "stream",
     "text": [
      "## Results for method: CUPY_CHROM_FILTER\n",
      "\n",
      "    * Errors: RMSE = 2.89, MAE = 2.37, MAX = 11.53, PCC = 0.96, CCC = 0.93, SNR = -3.73\n"
     ]
    },
    {
     "name": "stderr",
     "output_type": "stream",
     "text": [
      "D:\\anaconda3\\envs\\pyvhr\\lib\\site-packages\\pyvhr-1.0.2-py3.8.egg\\pyVHR\\analysis\\multi_method_suite.py:364: FutureWarning: The frame.append method is deprecated and will be removed from pandas in a future version. Use pandas.concat instead.\n",
      "  self.dataFrame = self.dataFrame.append(\n"
     ]
    },
    {
     "name": "stdout",
     "output_type": "stream",
     "text": [
      "## Results for method: CUPY_POS_FILTER\n",
      "\n",
      "    * Errors: RMSE = 22.56, MAE = 15.98, MAX = 61.66, PCC = 0.31, CCC = 0.13, SNR = -3.73\n"
     ]
    },
    {
     "name": "stderr",
     "output_type": "stream",
     "text": [
      "D:\\anaconda3\\envs\\pyvhr\\lib\\site-packages\\pyvhr-1.0.2-py3.8.egg\\pyVHR\\analysis\\multi_method_suite.py:364: FutureWarning: The frame.append method is deprecated and will be removed from pandas in a future version. Use pandas.concat instead.\n",
      "  self.dataFrame = self.dataFrame.append(\n"
     ]
    },
    {
     "name": "stdout",
     "output_type": "stream",
     "text": [
      "## Results for method: CPU_PCA_ALL\n",
      "\n",
      "    * Errors: RMSE = 40.57, MAE = 25.46, MAX = 88.14, PCC = 0.10, CCC = 0.03, SNR = -3.73\n"
     ]
    },
    {
     "name": "stderr",
     "output_type": "stream",
     "text": [
      "D:\\anaconda3\\envs\\pyvhr\\lib\\site-packages\\pyvhr-1.0.2-py3.8.egg\\pyVHR\\analysis\\multi_method_suite.py:364: FutureWarning: The frame.append method is deprecated and will be removed from pandas in a future version. Use pandas.concat instead.\n",
      "  self.dataFrame = self.dataFrame.append(\n"
     ]
    },
    {
     "name": "stdout",
     "output_type": "stream",
     "text": [
      "## Results for method: Multi-Method\n",
      "\n",
      "    * Errors: RMSE = 19.90, MAE = 9.67, MAX = 70.30, PCC = 0.24, CCC = 0.15, SNR = -3.73\n",
      "\n",
      "## videoID: 11\n",
      "D:\\OneDrive - Heriot-Watt University\\Computer Science Uni\\Year 4\\Datasets\\UBFC_DATASET\\DATASET_2\\subject22\\vid.avi\n",
      "## Computing method: CUPY_CHROM_FILTER\n",
      "  pre-filter: BPFILTER\n",
      "  post-filter: BPFILTER\n",
      "## Computing method: CUPY_POS_FILTER\n",
      "  pre-filter: BPFILTER\n",
      "  post-filter: BPFILTER\n",
      "## Computing method: CPU_PCA_ALL\n"
     ]
    },
    {
     "name": "stderr",
     "output_type": "stream",
     "text": [
      "D:\\anaconda3\\envs\\pyvhr\\lib\\site-packages\\pyvhr-1.0.2-py3.8.egg\\pyVHR\\analysis\\multi_method_suite.py:364: FutureWarning: The frame.append method is deprecated and will be removed from pandas in a future version. Use pandas.concat instead.\n",
      "  self.dataFrame = self.dataFrame.append(\n"
     ]
    },
    {
     "name": "stdout",
     "output_type": "stream",
     "text": [
      "## Results for method: CUPY_CHROM_FILTER\n",
      "\n",
      "    * Errors: RMSE = 1.61, MAE = 1.39, MAX = 3.29, PCC = 0.99, CCC = 0.97, SNR = -3.97\n"
     ]
    },
    {
     "name": "stderr",
     "output_type": "stream",
     "text": [
      "D:\\anaconda3\\envs\\pyvhr\\lib\\site-packages\\pyvhr-1.0.2-py3.8.egg\\pyVHR\\analysis\\multi_method_suite.py:364: FutureWarning: The frame.append method is deprecated and will be removed from pandas in a future version. Use pandas.concat instead.\n",
      "  self.dataFrame = self.dataFrame.append(\n"
     ]
    },
    {
     "name": "stdout",
     "output_type": "stream",
     "text": [
      "## Results for method: CUPY_POS_FILTER\n",
      "\n",
      "    * Errors: RMSE = 4.55, MAE = 3.60, MAX = 11.48, PCC = 0.91, CCC = 0.81, SNR = -3.97\n"
     ]
    },
    {
     "name": "stderr",
     "output_type": "stream",
     "text": [
      "D:\\anaconda3\\envs\\pyvhr\\lib\\site-packages\\pyvhr-1.0.2-py3.8.egg\\pyVHR\\analysis\\multi_method_suite.py:364: FutureWarning: The frame.append method is deprecated and will be removed from pandas in a future version. Use pandas.concat instead.\n",
      "  self.dataFrame = self.dataFrame.append(\n"
     ]
    },
    {
     "name": "stdout",
     "output_type": "stream",
     "text": [
      "## Results for method: CPU_PCA_ALL\n",
      "\n",
      "    * Errors: RMSE = 29.04, MAE = 19.27, MAX = 64.31, PCC = 0.08, CCC = 0.03, SNR = -3.97\n"
     ]
    },
    {
     "name": "stderr",
     "output_type": "stream",
     "text": [
      "D:\\anaconda3\\envs\\pyvhr\\lib\\site-packages\\pyvhr-1.0.2-py3.8.egg\\pyVHR\\analysis\\multi_method_suite.py:364: FutureWarning: The frame.append method is deprecated and will be removed from pandas in a future version. Use pandas.concat instead.\n",
      "  self.dataFrame = self.dataFrame.append(\n"
     ]
    },
    {
     "name": "stdout",
     "output_type": "stream",
     "text": [
      "## Results for method: Multi-Method\n",
      "\n",
      "    * Errors: RMSE = 5.54, MAE = 3.65, MAX = 25.08, PCC = 0.83, CCC = 0.73, SNR = -3.97\n",
      "\n",
      "## videoID: 12\n",
      "D:\\OneDrive - Heriot-Watt University\\Computer Science Uni\\Year 4\\Datasets\\UBFC_DATASET\\DATASET_2\\subject23\\vid.avi\n",
      "## Computing method: CUPY_CHROM_FILTER\n",
      "  pre-filter: BPFILTER\n",
      "  post-filter: BPFILTER\n",
      "## Computing method: CUPY_POS_FILTER\n",
      "  pre-filter: BPFILTER\n",
      "  post-filter: BPFILTER\n",
      "## Computing method: CPU_PCA_ALL\n"
     ]
    },
    {
     "name": "stderr",
     "output_type": "stream",
     "text": [
      "D:\\anaconda3\\envs\\pyvhr\\lib\\site-packages\\pyvhr-1.0.2-py3.8.egg\\pyVHR\\analysis\\multi_method_suite.py:364: FutureWarning: The frame.append method is deprecated and will be removed from pandas in a future version. Use pandas.concat instead.\n",
      "  self.dataFrame = self.dataFrame.append(\n"
     ]
    },
    {
     "name": "stdout",
     "output_type": "stream",
     "text": [
      "## Results for method: CUPY_CHROM_FILTER\n",
      "\n",
      "    * Errors: RMSE = 1.17, MAE = 0.86, MAX = 3.88, PCC = 0.98, CCC = 0.97, SNR = 0.43\n"
     ]
    },
    {
     "name": "stderr",
     "output_type": "stream",
     "text": [
      "D:\\anaconda3\\envs\\pyvhr\\lib\\site-packages\\pyvhr-1.0.2-py3.8.egg\\pyVHR\\analysis\\multi_method_suite.py:364: FutureWarning: The frame.append method is deprecated and will be removed from pandas in a future version. Use pandas.concat instead.\n",
      "  self.dataFrame = self.dataFrame.append(\n"
     ]
    },
    {
     "name": "stdout",
     "output_type": "stream",
     "text": [
      "## Results for method: CUPY_POS_FILTER\n",
      "\n",
      "    * Errors: RMSE = 10.26, MAE = 9.44, MAX = 21.19, PCC = 0.60, CCC = 0.17, SNR = 0.43\n"
     ]
    },
    {
     "name": "stderr",
     "output_type": "stream",
     "text": [
      "D:\\anaconda3\\envs\\pyvhr\\lib\\site-packages\\pyvhr-1.0.2-py3.8.egg\\pyVHR\\analysis\\multi_method_suite.py:364: FutureWarning: The frame.append method is deprecated and will be removed from pandas in a future version. Use pandas.concat instead.\n",
      "  self.dataFrame = self.dataFrame.append(\n"
     ]
    },
    {
     "name": "stdout",
     "output_type": "stream",
     "text": [
      "## Results for method: CPU_PCA_ALL\n",
      "\n",
      "    * Errors: RMSE = 2.09, MAE = 1.50, MAX = 7.27, PCC = 0.93, CCC = 0.90, SNR = 0.43\n"
     ]
    },
    {
     "name": "stderr",
     "output_type": "stream",
     "text": [
      "D:\\anaconda3\\envs\\pyvhr\\lib\\site-packages\\pyvhr-1.0.2-py3.8.egg\\pyVHR\\analysis\\multi_method_suite.py:364: FutureWarning: The frame.append method is deprecated and will be removed from pandas in a future version. Use pandas.concat instead.\n",
      "  self.dataFrame = self.dataFrame.append(\n"
     ]
    },
    {
     "name": "stdout",
     "output_type": "stream",
     "text": [
      "## Results for method: Multi-Method\n",
      "\n",
      "    * Errors: RMSE = 1.20, MAE = 0.92, MAX = 4.73, PCC = 0.97, CCC = 0.97, SNR = 0.43\n",
      "\n",
      "## videoID: 13\n",
      "D:\\OneDrive - Heriot-Watt University\\Computer Science Uni\\Year 4\\Datasets\\UBFC_DATASET\\DATASET_2\\subject24\\vid.avi\n",
      "## Computing method: CUPY_CHROM_FILTER\n",
      "  pre-filter: BPFILTER\n",
      "  post-filter: BPFILTER\n",
      "## Computing method: CUPY_POS_FILTER\n",
      "  pre-filter: BPFILTER\n",
      "  post-filter: BPFILTER\n",
      "## Computing method: CPU_PCA_ALL\n"
     ]
    },
    {
     "name": "stderr",
     "output_type": "stream",
     "text": [
      "D:\\anaconda3\\envs\\pyvhr\\lib\\site-packages\\pyvhr-1.0.2-py3.8.egg\\pyVHR\\analysis\\multi_method_suite.py:364: FutureWarning: The frame.append method is deprecated and will be removed from pandas in a future version. Use pandas.concat instead.\n",
      "  self.dataFrame = self.dataFrame.append(\n"
     ]
    },
    {
     "name": "stdout",
     "output_type": "stream",
     "text": [
      "## Results for method: CUPY_CHROM_FILTER\n",
      "\n",
      "    * Errors: RMSE = 1.84, MAE = 1.44, MAX = 4.92, PCC = 1.00, CCC = 0.99, SNR = -2.72\n"
     ]
    },
    {
     "name": "stderr",
     "output_type": "stream",
     "text": [
      "D:\\anaconda3\\envs\\pyvhr\\lib\\site-packages\\pyvhr-1.0.2-py3.8.egg\\pyVHR\\analysis\\multi_method_suite.py:364: FutureWarning: The frame.append method is deprecated and will be removed from pandas in a future version. Use pandas.concat instead.\n",
      "  self.dataFrame = self.dataFrame.append(\n"
     ]
    },
    {
     "name": "stdout",
     "output_type": "stream",
     "text": [
      "## Results for method: CUPY_POS_FILTER\n",
      "\n",
      "    * Errors: RMSE = 5.71, MAE = 3.96, MAX = 18.79, PCC = 0.94, CCC = 0.92, SNR = -2.72\n"
     ]
    },
    {
     "name": "stderr",
     "output_type": "stream",
     "text": [
      "D:\\anaconda3\\envs\\pyvhr\\lib\\site-packages\\pyvhr-1.0.2-py3.8.egg\\pyVHR\\analysis\\multi_method_suite.py:364: FutureWarning: The frame.append method is deprecated and will be removed from pandas in a future version. Use pandas.concat instead.\n",
      "  self.dataFrame = self.dataFrame.append(\n"
     ]
    },
    {
     "name": "stdout",
     "output_type": "stream",
     "text": [
      "## Results for method: CPU_PCA_ALL\n",
      "\n",
      "    * Errors: RMSE = 8.65, MAE = 3.23, MAX = 53.01, PCC = 0.84, CCC = 0.83, SNR = -2.72\n"
     ]
    },
    {
     "name": "stderr",
     "output_type": "stream",
     "text": [
      "D:\\anaconda3\\envs\\pyvhr\\lib\\site-packages\\pyvhr-1.0.2-py3.8.egg\\pyVHR\\analysis\\multi_method_suite.py:364: FutureWarning: The frame.append method is deprecated and will be removed from pandas in a future version. Use pandas.concat instead.\n",
      "  self.dataFrame = self.dataFrame.append(\n"
     ]
    },
    {
     "name": "stdout",
     "output_type": "stream",
     "text": [
      "## Results for method: Multi-Method\n",
      "\n",
      "    * Errors: RMSE = 1.65, MAE = 1.27, MAX = 4.92, PCC = 0.99, CCC = 0.99, SNR = -2.72\n",
      "\n",
      "## videoID: 14\n",
      "D:\\OneDrive - Heriot-Watt University\\Computer Science Uni\\Year 4\\Datasets\\UBFC_DATASET\\DATASET_2\\subject25\\vid.avi\n",
      "## Computing method: CUPY_CHROM_FILTER\n",
      "  pre-filter: BPFILTER\n",
      "  post-filter: BPFILTER\n",
      "## Computing method: CUPY_POS_FILTER\n",
      "  pre-filter: BPFILTER\n",
      "  post-filter: BPFILTER\n",
      "## Computing method: CPU_PCA_ALL\n"
     ]
    },
    {
     "name": "stderr",
     "output_type": "stream",
     "text": [
      "D:\\anaconda3\\envs\\pyvhr\\lib\\site-packages\\pyvhr-1.0.2-py3.8.egg\\pyVHR\\analysis\\multi_method_suite.py:364: FutureWarning: The frame.append method is deprecated and will be removed from pandas in a future version. Use pandas.concat instead.\n",
      "  self.dataFrame = self.dataFrame.append(\n"
     ]
    },
    {
     "name": "stdout",
     "output_type": "stream",
     "text": [
      "## Results for method: CUPY_CHROM_FILTER\n",
      "\n",
      "    * Errors: RMSE = 1.28, MAE = 1.04, MAX = 3.78, PCC = 0.96, CCC = 0.91, SNR = -5.58\n"
     ]
    },
    {
     "name": "stderr",
     "output_type": "stream",
     "text": [
      "D:\\anaconda3\\envs\\pyvhr\\lib\\site-packages\\pyvhr-1.0.2-py3.8.egg\\pyVHR\\analysis\\multi_method_suite.py:364: FutureWarning: The frame.append method is deprecated and will be removed from pandas in a future version. Use pandas.concat instead.\n",
      "  self.dataFrame = self.dataFrame.append(\n"
     ]
    },
    {
     "name": "stdout",
     "output_type": "stream",
     "text": [
      "## Results for method: CUPY_POS_FILTER\n",
      "\n",
      "    * Errors: RMSE = 6.19, MAE = 4.68, MAX = 14.00, PCC = 0.38, CCC = 0.26, SNR = -5.58\n"
     ]
    },
    {
     "name": "stderr",
     "output_type": "stream",
     "text": [
      "D:\\anaconda3\\envs\\pyvhr\\lib\\site-packages\\pyvhr-1.0.2-py3.8.egg\\pyVHR\\analysis\\multi_method_suite.py:364: FutureWarning: The frame.append method is deprecated and will be removed from pandas in a future version. Use pandas.concat instead.\n",
      "  self.dataFrame = self.dataFrame.append(\n"
     ]
    },
    {
     "name": "stdout",
     "output_type": "stream",
     "text": [
      "## Results for method: CPU_PCA_ALL\n",
      "\n",
      "    * Errors: RMSE = 109.62, MAE = 106.98, MAX = 123.55, PCC = -0.12, CCC = -0.00, SNR = -5.58\n"
     ]
    },
    {
     "name": "stderr",
     "output_type": "stream",
     "text": [
      "D:\\anaconda3\\envs\\pyvhr\\lib\\site-packages\\pyvhr-1.0.2-py3.8.egg\\pyVHR\\analysis\\multi_method_suite.py:364: FutureWarning: The frame.append method is deprecated and will be removed from pandas in a future version. Use pandas.concat instead.\n",
      "  self.dataFrame = self.dataFrame.append(\n"
     ]
    },
    {
     "name": "stdout",
     "output_type": "stream",
     "text": [
      "## Results for method: Multi-Method\n",
      "\n",
      "    * Errors: RMSE = 47.50, MAE = 38.33, MAX = 98.97, PCC = 0.18, CCC = 0.02, SNR = -5.58\n",
      "\n",
      "## videoID: 15\n",
      "D:\\OneDrive - Heriot-Watt University\\Computer Science Uni\\Year 4\\Datasets\\UBFC_DATASET\\DATASET_2\\subject26\\vid.avi\n",
      "## Computing method: CUPY_CHROM_FILTER\n",
      "  pre-filter: BPFILTER\n",
      "  post-filter: BPFILTER\n",
      "## Computing method: CUPY_POS_FILTER\n",
      "  pre-filter: BPFILTER\n",
      "  post-filter: BPFILTER\n",
      "## Computing method: CPU_PCA_ALL\n"
     ]
    },
    {
     "name": "stderr",
     "output_type": "stream",
     "text": [
      "D:\\anaconda3\\envs\\pyvhr\\lib\\site-packages\\pyvhr-1.0.2-py3.8.egg\\pyVHR\\analysis\\multi_method_suite.py:364: FutureWarning: The frame.append method is deprecated and will be removed from pandas in a future version. Use pandas.concat instead.\n",
      "  self.dataFrame = self.dataFrame.append(\n"
     ]
    },
    {
     "name": "stdout",
     "output_type": "stream",
     "text": [
      "## Results for method: CUPY_CHROM_FILTER\n",
      "\n",
      "    * Errors: RMSE = 8.57, MAE = 5.25, MAX = 35.50, PCC = 0.35, CCC = 0.14, SNR = -6.24\n"
     ]
    },
    {
     "name": "stderr",
     "output_type": "stream",
     "text": [
      "D:\\anaconda3\\envs\\pyvhr\\lib\\site-packages\\pyvhr-1.0.2-py3.8.egg\\pyVHR\\analysis\\multi_method_suite.py:364: FutureWarning: The frame.append method is deprecated and will be removed from pandas in a future version. Use pandas.concat instead.\n",
      "  self.dataFrame = self.dataFrame.append(\n"
     ]
    },
    {
     "name": "stdout",
     "output_type": "stream",
     "text": [
      "## Results for method: CUPY_POS_FILTER\n",
      "\n",
      "    * Errors: RMSE = 30.50, MAE = 27.60, MAX = 60.14, PCC = 0.01, CCC = 0.00, SNR = -6.24\n"
     ]
    },
    {
     "name": "stderr",
     "output_type": "stream",
     "text": [
      "D:\\anaconda3\\envs\\pyvhr\\lib\\site-packages\\pyvhr-1.0.2-py3.8.egg\\pyVHR\\analysis\\multi_method_suite.py:364: FutureWarning: The frame.append method is deprecated and will be removed from pandas in a future version. Use pandas.concat instead.\n",
      "  self.dataFrame = self.dataFrame.append(\n"
     ]
    },
    {
     "name": "stdout",
     "output_type": "stream",
     "text": [
      "## Results for method: CPU_PCA_ALL\n",
      "\n",
      "    * Errors: RMSE = 121.04, MAE = 118.14, MAX = 134.03, PCC = 0.19, CCC = 0.00, SNR = -6.24\n"
     ]
    },
    {
     "name": "stderr",
     "output_type": "stream",
     "text": [
      "D:\\anaconda3\\envs\\pyvhr\\lib\\site-packages\\pyvhr-1.0.2-py3.8.egg\\pyVHR\\analysis\\multi_method_suite.py:364: FutureWarning: The frame.append method is deprecated and will be removed from pandas in a future version. Use pandas.concat instead.\n",
      "  self.dataFrame = self.dataFrame.append(\n"
     ]
    },
    {
     "name": "stdout",
     "output_type": "stream",
     "text": [
      "## Results for method: Multi-Method\n",
      "\n",
      "    * Errors: RMSE = 48.21, MAE = 43.36, MAX = 87.71, PCC = 0.14, CCC = 0.01, SNR = -6.24\n",
      "\n",
      "## videoID: 16\n",
      "D:\\OneDrive - Heriot-Watt University\\Computer Science Uni\\Year 4\\Datasets\\UBFC_DATASET\\DATASET_2\\subject27\\vid.avi\n",
      "## Computing method: CUPY_CHROM_FILTER\n",
      "  pre-filter: BPFILTER\n",
      "  post-filter: BPFILTER\n",
      "## Computing method: CUPY_POS_FILTER\n",
      "  pre-filter: BPFILTER\n",
      "  post-filter: BPFILTER\n",
      "## Computing method: CPU_PCA_ALL\n"
     ]
    },
    {
     "name": "stderr",
     "output_type": "stream",
     "text": [
      "D:\\anaconda3\\envs\\pyvhr\\lib\\site-packages\\pyvhr-1.0.2-py3.8.egg\\pyVHR\\analysis\\multi_method_suite.py:364: FutureWarning: The frame.append method is deprecated and will be removed from pandas in a future version. Use pandas.concat instead.\n",
      "  self.dataFrame = self.dataFrame.append(\n"
     ]
    },
    {
     "name": "stdout",
     "output_type": "stream",
     "text": [
      "## Results for method: CUPY_CHROM_FILTER\n",
      "\n",
      "    * Errors: RMSE = 5.64, MAE = 2.98, MAX = 24.02, PCC = 0.80, CCC = 0.78, SNR = -6.27\n"
     ]
    },
    {
     "name": "stderr",
     "output_type": "stream",
     "text": [
      "D:\\anaconda3\\envs\\pyvhr\\lib\\site-packages\\pyvhr-1.0.2-py3.8.egg\\pyVHR\\analysis\\multi_method_suite.py:364: FutureWarning: The frame.append method is deprecated and will be removed from pandas in a future version. Use pandas.concat instead.\n",
      "  self.dataFrame = self.dataFrame.append(\n"
     ]
    },
    {
     "name": "stdout",
     "output_type": "stream",
     "text": [
      "## Results for method: CUPY_POS_FILTER\n",
      "\n",
      "    * Errors: RMSE = 8.24, MAE = 6.33, MAX = 20.50, PCC = 0.65, CCC = 0.59, SNR = -6.27\n"
     ]
    },
    {
     "name": "stderr",
     "output_type": "stream",
     "text": [
      "D:\\anaconda3\\envs\\pyvhr\\lib\\site-packages\\pyvhr-1.0.2-py3.8.egg\\pyVHR\\analysis\\multi_method_suite.py:364: FutureWarning: The frame.append method is deprecated and will be removed from pandas in a future version. Use pandas.concat instead.\n",
      "  self.dataFrame = self.dataFrame.append(\n"
     ]
    },
    {
     "name": "stdout",
     "output_type": "stream",
     "text": [
      "## Results for method: CPU_PCA_ALL\n",
      "\n",
      "    * Errors: RMSE = 93.16, MAE = 83.67, MAX = 137.35, PCC = -0.28, CCC = -0.04, SNR = -6.27\n"
     ]
    },
    {
     "name": "stderr",
     "output_type": "stream",
     "text": [
      "D:\\anaconda3\\envs\\pyvhr\\lib\\site-packages\\pyvhr-1.0.2-py3.8.egg\\pyVHR\\analysis\\multi_method_suite.py:364: FutureWarning: The frame.append method is deprecated and will be removed from pandas in a future version. Use pandas.concat instead.\n",
      "  self.dataFrame = self.dataFrame.append(\n"
     ]
    },
    {
     "name": "stdout",
     "output_type": "stream",
     "text": [
      "## Results for method: Multi-Method\n",
      "\n",
      "    * Errors: RMSE = 34.02, MAE = 22.78, MAX = 106.06, PCC = 0.21, CCC = 0.09, SNR = -6.27\n",
      "\n",
      "## videoID: 17\n",
      "D:\\OneDrive - Heriot-Watt University\\Computer Science Uni\\Year 4\\Datasets\\UBFC_DATASET\\DATASET_2\\subject3\\vid.avi\n",
      "## Computing method: CUPY_CHROM_FILTER\n",
      "  pre-filter: BPFILTER\n",
      "  post-filter: BPFILTER\n",
      "## Computing method: CUPY_POS_FILTER\n",
      "  pre-filter: BPFILTER\n",
      "  post-filter: BPFILTER\n",
      "## Computing method: CPU_PCA_ALL\n"
     ]
    },
    {
     "name": "stderr",
     "output_type": "stream",
     "text": [
      "D:\\anaconda3\\envs\\pyvhr\\lib\\site-packages\\pyvhr-1.0.2-py3.8.egg\\pyVHR\\analysis\\multi_method_suite.py:364: FutureWarning: The frame.append method is deprecated and will be removed from pandas in a future version. Use pandas.concat instead.\n",
      "  self.dataFrame = self.dataFrame.append(\n"
     ]
    },
    {
     "name": "stdout",
     "output_type": "stream",
     "text": [
      "## Results for method: CUPY_CHROM_FILTER\n",
      "\n",
      "    * Errors: RMSE = 21.82, MAE = 6.10, MAX = 116.51, PCC = 0.46, CCC = 0.25, SNR = -2.08\n"
     ]
    },
    {
     "name": "stderr",
     "output_type": "stream",
     "text": [
      "D:\\anaconda3\\envs\\pyvhr\\lib\\site-packages\\pyvhr-1.0.2-py3.8.egg\\pyVHR\\analysis\\multi_method_suite.py:364: FutureWarning: The frame.append method is deprecated and will be removed from pandas in a future version. Use pandas.concat instead.\n",
      "  self.dataFrame = self.dataFrame.append(\n"
     ]
    },
    {
     "name": "stdout",
     "output_type": "stream",
     "text": [
      "## Results for method: CUPY_POS_FILTER\n",
      "\n",
      "    * Errors: RMSE = 22.14, MAE = 8.03, MAX = 113.92, PCC = 0.48, CCC = 0.25, SNR = -2.08\n"
     ]
    },
    {
     "name": "stderr",
     "output_type": "stream",
     "text": [
      "D:\\anaconda3\\envs\\pyvhr\\lib\\site-packages\\pyvhr-1.0.2-py3.8.egg\\pyVHR\\analysis\\multi_method_suite.py:364: FutureWarning: The frame.append method is deprecated and will be removed from pandas in a future version. Use pandas.concat instead.\n",
      "  self.dataFrame = self.dataFrame.append(\n"
     ]
    },
    {
     "name": "stdout",
     "output_type": "stream",
     "text": [
      "## Results for method: CPU_PCA_ALL\n",
      "\n",
      "    * Errors: RMSE = 21.75, MAE = 7.06, MAX = 111.72, PCC = 0.52, CCC = 0.27, SNR = -2.08\n"
     ]
    },
    {
     "name": "stderr",
     "output_type": "stream",
     "text": [
      "D:\\anaconda3\\envs\\pyvhr\\lib\\site-packages\\pyvhr-1.0.2-py3.8.egg\\pyVHR\\analysis\\multi_method_suite.py:364: FutureWarning: The frame.append method is deprecated and will be removed from pandas in a future version. Use pandas.concat instead.\n",
      "  self.dataFrame = self.dataFrame.append(\n"
     ]
    },
    {
     "name": "stdout",
     "output_type": "stream",
     "text": [
      "## Results for method: Multi-Method\n",
      "\n",
      "    * Errors: RMSE = 21.66, MAE = 6.45, MAX = 113.49, PCC = 0.51, CCC = 0.27, SNR = -2.08\n",
      "\n",
      "## videoID: 18\n",
      "D:\\OneDrive - Heriot-Watt University\\Computer Science Uni\\Year 4\\Datasets\\UBFC_DATASET\\DATASET_2\\subject30\\vid.avi\n",
      "## Computing method: CUPY_CHROM_FILTER\n",
      "  pre-filter: BPFILTER\n",
      "  post-filter: BPFILTER\n",
      "## Computing method: CUPY_POS_FILTER\n",
      "  pre-filter: BPFILTER\n",
      "  post-filter: BPFILTER\n",
      "## Computing method: CPU_PCA_ALL\n"
     ]
    },
    {
     "name": "stderr",
     "output_type": "stream",
     "text": [
      "D:\\anaconda3\\envs\\pyvhr\\lib\\site-packages\\pyvhr-1.0.2-py3.8.egg\\pyVHR\\analysis\\multi_method_suite.py:364: FutureWarning: The frame.append method is deprecated and will be removed from pandas in a future version. Use pandas.concat instead.\n",
      "  self.dataFrame = self.dataFrame.append(\n"
     ]
    },
    {
     "name": "stdout",
     "output_type": "stream",
     "text": [
      "## Results for method: CUPY_CHROM_FILTER\n",
      "\n",
      "    * Errors: RMSE = 1.45, MAE = 1.16, MAX = 4.15, PCC = 0.98, CCC = 0.98, SNR = -3.42\n"
     ]
    },
    {
     "name": "stderr",
     "output_type": "stream",
     "text": [
      "D:\\anaconda3\\envs\\pyvhr\\lib\\site-packages\\pyvhr-1.0.2-py3.8.egg\\pyVHR\\analysis\\multi_method_suite.py:364: FutureWarning: The frame.append method is deprecated and will be removed from pandas in a future version. Use pandas.concat instead.\n",
      "  self.dataFrame = self.dataFrame.append(\n"
     ]
    },
    {
     "name": "stdout",
     "output_type": "stream",
     "text": [
      "## Results for method: CUPY_POS_FILTER\n",
      "\n",
      "    * Errors: RMSE = 9.04, MAE = 6.21, MAX = 28.88, PCC = 0.58, CCC = 0.47, SNR = -3.42\n"
     ]
    },
    {
     "name": "stderr",
     "output_type": "stream",
     "text": [
      "D:\\anaconda3\\envs\\pyvhr\\lib\\site-packages\\pyvhr-1.0.2-py3.8.egg\\pyVHR\\analysis\\multi_method_suite.py:364: FutureWarning: The frame.append method is deprecated and will be removed from pandas in a future version. Use pandas.concat instead.\n",
      "  self.dataFrame = self.dataFrame.append(\n"
     ]
    },
    {
     "name": "stdout",
     "output_type": "stream",
     "text": [
      "## Results for method: CPU_PCA_ALL\n",
      "\n",
      "    * Errors: RMSE = 22.38, MAE = 12.22, MAX = 59.75, PCC = 0.47, CCC = 0.21, SNR = -3.42\n"
     ]
    },
    {
     "name": "stderr",
     "output_type": "stream",
     "text": [
      "D:\\anaconda3\\envs\\pyvhr\\lib\\site-packages\\pyvhr-1.0.2-py3.8.egg\\pyVHR\\analysis\\multi_method_suite.py:364: FutureWarning: The frame.append method is deprecated and will be removed from pandas in a future version. Use pandas.concat instead.\n",
      "  self.dataFrame = self.dataFrame.append(\n"
     ]
    },
    {
     "name": "stdout",
     "output_type": "stream",
     "text": [
      "## Results for method: Multi-Method\n",
      "\n",
      "    * Errors: RMSE = 6.39, MAE = 3.27, MAX = 30.19, PCC = 0.79, CCC = 0.70, SNR = -3.42\n",
      "\n",
      "## videoID: 19\n",
      "D:\\OneDrive - Heriot-Watt University\\Computer Science Uni\\Year 4\\Datasets\\UBFC_DATASET\\DATASET_2\\subject31\\vid.avi\n",
      "## Computing method: CUPY_CHROM_FILTER\n",
      "  pre-filter: BPFILTER\n",
      "  post-filter: BPFILTER\n",
      "## Computing method: CUPY_POS_FILTER\n",
      "  pre-filter: BPFILTER\n",
      "  post-filter: BPFILTER\n",
      "## Computing method: CPU_PCA_ALL\n"
     ]
    },
    {
     "name": "stderr",
     "output_type": "stream",
     "text": [
      "D:\\anaconda3\\envs\\pyvhr\\lib\\site-packages\\pyvhr-1.0.2-py3.8.egg\\pyVHR\\analysis\\multi_method_suite.py:364: FutureWarning: The frame.append method is deprecated and will be removed from pandas in a future version. Use pandas.concat instead.\n",
      "  self.dataFrame = self.dataFrame.append(\n"
     ]
    },
    {
     "name": "stdout",
     "output_type": "stream",
     "text": [
      "## Results for method: CUPY_CHROM_FILTER\n",
      "\n",
      "    * Errors: RMSE = 1.50, MAE = 1.17, MAX = 4.17, PCC = 0.89, CCC = 0.83, SNR = 0.46\n"
     ]
    },
    {
     "name": "stderr",
     "output_type": "stream",
     "text": [
      "D:\\anaconda3\\envs\\pyvhr\\lib\\site-packages\\pyvhr-1.0.2-py3.8.egg\\pyVHR\\analysis\\multi_method_suite.py:364: FutureWarning: The frame.append method is deprecated and will be removed from pandas in a future version. Use pandas.concat instead.\n",
      "  self.dataFrame = self.dataFrame.append(\n"
     ]
    },
    {
     "name": "stdout",
     "output_type": "stream",
     "text": [
      "## Results for method: CUPY_POS_FILTER\n",
      "\n",
      "    * Errors: RMSE = 3.03, MAE = 2.32, MAX = 7.80, PCC = 0.28, CCC = 0.27, SNR = 0.46\n"
     ]
    },
    {
     "name": "stderr",
     "output_type": "stream",
     "text": [
      "D:\\anaconda3\\envs\\pyvhr\\lib\\site-packages\\pyvhr-1.0.2-py3.8.egg\\pyVHR\\analysis\\multi_method_suite.py:364: FutureWarning: The frame.append method is deprecated and will be removed from pandas in a future version. Use pandas.concat instead.\n",
      "  self.dataFrame = self.dataFrame.append(\n"
     ]
    },
    {
     "name": "stdout",
     "output_type": "stream",
     "text": [
      "## Results for method: CPU_PCA_ALL\n",
      "\n",
      "    * Errors: RMSE = 5.61, MAE = 2.55, MAX = 27.54, PCC = 0.46, CCC = 0.29, SNR = 0.46\n"
     ]
    },
    {
     "name": "stderr",
     "output_type": "stream",
     "text": [
      "D:\\anaconda3\\envs\\pyvhr\\lib\\site-packages\\pyvhr-1.0.2-py3.8.egg\\pyVHR\\analysis\\multi_method_suite.py:364: FutureWarning: The frame.append method is deprecated and will be removed from pandas in a future version. Use pandas.concat instead.\n",
      "  self.dataFrame = self.dataFrame.append(\n"
     ]
    },
    {
     "name": "stdout",
     "output_type": "stream",
     "text": [
      "## Results for method: Multi-Method\n",
      "\n",
      "    * Errors: RMSE = 1.62, MAE = 1.27, MAX = 4.17, PCC = 0.89, CCC = 0.80, SNR = 0.46\n",
      "\n",
      "## videoID: 20\n",
      "D:\\OneDrive - Heriot-Watt University\\Computer Science Uni\\Year 4\\Datasets\\UBFC_DATASET\\DATASET_2\\subject32\\vid.avi\n",
      "## Computing method: CUPY_CHROM_FILTER\n",
      "  pre-filter: BPFILTER\n",
      "  post-filter: BPFILTER\n",
      "## Computing method: CUPY_POS_FILTER\n",
      "  pre-filter: BPFILTER\n",
      "  post-filter: BPFILTER\n",
      "## Computing method: CPU_PCA_ALL\n"
     ]
    },
    {
     "name": "stderr",
     "output_type": "stream",
     "text": [
      "D:\\anaconda3\\envs\\pyvhr\\lib\\site-packages\\pyvhr-1.0.2-py3.8.egg\\pyVHR\\analysis\\multi_method_suite.py:364: FutureWarning: The frame.append method is deprecated and will be removed from pandas in a future version. Use pandas.concat instead.\n",
      "  self.dataFrame = self.dataFrame.append(\n"
     ]
    },
    {
     "name": "stdout",
     "output_type": "stream",
     "text": [
      "## Results for method: CUPY_CHROM_FILTER\n",
      "\n",
      "    * Errors: RMSE = 15.29, MAE = 7.73, MAX = 44.28, PCC = 0.84, CCC = 0.60, SNR = -3.59\n"
     ]
    },
    {
     "name": "stderr",
     "output_type": "stream",
     "text": [
      "D:\\anaconda3\\envs\\pyvhr\\lib\\site-packages\\pyvhr-1.0.2-py3.8.egg\\pyVHR\\analysis\\multi_method_suite.py:364: FutureWarning: The frame.append method is deprecated and will be removed from pandas in a future version. Use pandas.concat instead.\n",
      "  self.dataFrame = self.dataFrame.append(\n"
     ]
    },
    {
     "name": "stdout",
     "output_type": "stream",
     "text": [
      "## Results for method: CUPY_POS_FILTER\n",
      "\n",
      "    * Errors: RMSE = 12.26, MAE = 9.11, MAX = 30.29, PCC = 0.83, CCC = 0.63, SNR = -3.59\n"
     ]
    },
    {
     "name": "stderr",
     "output_type": "stream",
     "text": [
      "D:\\anaconda3\\envs\\pyvhr\\lib\\site-packages\\pyvhr-1.0.2-py3.8.egg\\pyVHR\\analysis\\multi_method_suite.py:364: FutureWarning: The frame.append method is deprecated and will be removed from pandas in a future version. Use pandas.concat instead.\n",
      "  self.dataFrame = self.dataFrame.append(\n"
     ]
    },
    {
     "name": "stdout",
     "output_type": "stream",
     "text": [
      "## Results for method: CPU_PCA_ALL\n",
      "\n",
      "    * Errors: RMSE = 24.73, MAE = 13.90, MAX = 61.04, PCC = 0.70, CCC = 0.38, SNR = -3.59\n"
     ]
    },
    {
     "name": "stderr",
     "output_type": "stream",
     "text": [
      "D:\\anaconda3\\envs\\pyvhr\\lib\\site-packages\\pyvhr-1.0.2-py3.8.egg\\pyVHR\\analysis\\multi_method_suite.py:364: FutureWarning: The frame.append method is deprecated and will be removed from pandas in a future version. Use pandas.concat instead.\n",
      "  self.dataFrame = self.dataFrame.append(\n"
     ]
    },
    {
     "name": "stdout",
     "output_type": "stream",
     "text": [
      "## Results for method: Multi-Method\n",
      "\n",
      "    * Errors: RMSE = 18.30, MAE = 9.61, MAX = 46.91, PCC = 0.82, CCC = 0.53, SNR = -3.59\n",
      "\n",
      "## videoID: 21\n",
      "D:\\OneDrive - Heriot-Watt University\\Computer Science Uni\\Year 4\\Datasets\\UBFC_DATASET\\DATASET_2\\subject33\\vid.avi\n",
      "## Computing method: CUPY_CHROM_FILTER\n",
      "  pre-filter: BPFILTER\n",
      "  post-filter: BPFILTER\n",
      "## Computing method: CUPY_POS_FILTER\n",
      "  pre-filter: BPFILTER\n",
      "  post-filter: BPFILTER\n",
      "## Computing method: CPU_PCA_ALL\n"
     ]
    },
    {
     "name": "stderr",
     "output_type": "stream",
     "text": [
      "D:\\anaconda3\\envs\\pyvhr\\lib\\site-packages\\pyvhr-1.0.2-py3.8.egg\\pyVHR\\analysis\\multi_method_suite.py:364: FutureWarning: The frame.append method is deprecated and will be removed from pandas in a future version. Use pandas.concat instead.\n",
      "  self.dataFrame = self.dataFrame.append(\n"
     ]
    },
    {
     "name": "stdout",
     "output_type": "stream",
     "text": [
      "## Results for method: CUPY_CHROM_FILTER\n",
      "\n",
      "    * Errors: RMSE = 1.58, MAE = 1.22, MAX = 4.92, PCC = 0.97, CCC = 0.95, SNR = 0.87\n"
     ]
    },
    {
     "name": "stderr",
     "output_type": "stream",
     "text": [
      "D:\\anaconda3\\envs\\pyvhr\\lib\\site-packages\\pyvhr-1.0.2-py3.8.egg\\pyVHR\\analysis\\multi_method_suite.py:364: FutureWarning: The frame.append method is deprecated and will be removed from pandas in a future version. Use pandas.concat instead.\n",
      "  self.dataFrame = self.dataFrame.append(\n"
     ]
    },
    {
     "name": "stdout",
     "output_type": "stream",
     "text": [
      "## Results for method: CUPY_POS_FILTER\n",
      "\n",
      "    * Errors: RMSE = 5.43, MAE = 4.32, MAX = 12.52, PCC = 0.60, CCC = 0.50, SNR = 0.87\n"
     ]
    },
    {
     "name": "stderr",
     "output_type": "stream",
     "text": [
      "D:\\anaconda3\\envs\\pyvhr\\lib\\site-packages\\pyvhr-1.0.2-py3.8.egg\\pyVHR\\analysis\\multi_method_suite.py:364: FutureWarning: The frame.append method is deprecated and will be removed from pandas in a future version. Use pandas.concat instead.\n",
      "  self.dataFrame = self.dataFrame.append(\n"
     ]
    },
    {
     "name": "stdout",
     "output_type": "stream",
     "text": [
      "## Results for method: CPU_PCA_ALL\n",
      "\n",
      "    * Errors: RMSE = 1.65, MAE = 1.25, MAX = 4.92, PCC = 0.95, CCC = 0.95, SNR = 0.87\n"
     ]
    },
    {
     "name": "stderr",
     "output_type": "stream",
     "text": [
      "D:\\anaconda3\\envs\\pyvhr\\lib\\site-packages\\pyvhr-1.0.2-py3.8.egg\\pyVHR\\analysis\\multi_method_suite.py:364: FutureWarning: The frame.append method is deprecated and will be removed from pandas in a future version. Use pandas.concat instead.\n",
      "  self.dataFrame = self.dataFrame.append(\n"
     ]
    },
    {
     "name": "stdout",
     "output_type": "stream",
     "text": [
      "## Results for method: Multi-Method\n",
      "\n",
      "    * Errors: RMSE = 1.53, MAE = 1.18, MAX = 4.92, PCC = 0.96, CCC = 0.95, SNR = 0.87\n",
      "\n",
      "## videoID: 22\n",
      "D:\\OneDrive - Heriot-Watt University\\Computer Science Uni\\Year 4\\Datasets\\UBFC_DATASET\\DATASET_2\\subject34\\vid.avi\n",
      "## Computing method: CUPY_CHROM_FILTER\n",
      "  pre-filter: BPFILTER\n",
      "  post-filter: BPFILTER\n",
      "## Computing method: CUPY_POS_FILTER\n",
      "  pre-filter: BPFILTER\n",
      "  post-filter: BPFILTER\n",
      "## Computing method: CPU_PCA_ALL\n"
     ]
    },
    {
     "name": "stderr",
     "output_type": "stream",
     "text": [
      "D:\\anaconda3\\envs\\pyvhr\\lib\\site-packages\\pyvhr-1.0.2-py3.8.egg\\pyVHR\\analysis\\multi_method_suite.py:364: FutureWarning: The frame.append method is deprecated and will be removed from pandas in a future version. Use pandas.concat instead.\n",
      "  self.dataFrame = self.dataFrame.append(\n"
     ]
    },
    {
     "name": "stdout",
     "output_type": "stream",
     "text": [
      "## Results for method: CUPY_CHROM_FILTER\n",
      "\n",
      "    * Errors: RMSE = 0.89, MAE = 0.75, MAX = 1.94, PCC = 0.95, CCC = 0.94, SNR = -2.44\n"
     ]
    },
    {
     "name": "stderr",
     "output_type": "stream",
     "text": [
      "D:\\anaconda3\\envs\\pyvhr\\lib\\site-packages\\pyvhr-1.0.2-py3.8.egg\\pyVHR\\analysis\\multi_method_suite.py:364: FutureWarning: The frame.append method is deprecated and will be removed from pandas in a future version. Use pandas.concat instead.\n",
      "  self.dataFrame = self.dataFrame.append(\n"
     ]
    },
    {
     "name": "stdout",
     "output_type": "stream",
     "text": [
      "## Results for method: CUPY_POS_FILTER\n",
      "\n",
      "    * Errors: RMSE = 8.58, MAE = 7.58, MAX = 18.32, PCC = 0.13, CCC = 0.04, SNR = -2.44\n"
     ]
    },
    {
     "name": "stderr",
     "output_type": "stream",
     "text": [
      "D:\\anaconda3\\envs\\pyvhr\\lib\\site-packages\\pyvhr-1.0.2-py3.8.egg\\pyVHR\\analysis\\multi_method_suite.py:364: FutureWarning: The frame.append method is deprecated and will be removed from pandas in a future version. Use pandas.concat instead.\n",
      "  self.dataFrame = self.dataFrame.append(\n"
     ]
    },
    {
     "name": "stdout",
     "output_type": "stream",
     "text": [
      "## Results for method: CPU_PCA_ALL\n",
      "\n",
      "    * Errors: RMSE = 11.97, MAE = 4.31, MAX = 66.93, PCC = 0.20, CCC = 0.08, SNR = -2.44\n"
     ]
    },
    {
     "name": "stderr",
     "output_type": "stream",
     "text": [
      "D:\\anaconda3\\envs\\pyvhr\\lib\\site-packages\\pyvhr-1.0.2-py3.8.egg\\pyVHR\\analysis\\multi_method_suite.py:364: FutureWarning: The frame.append method is deprecated and will be removed from pandas in a future version. Use pandas.concat instead.\n",
      "  self.dataFrame = self.dataFrame.append(\n"
     ]
    },
    {
     "name": "stdout",
     "output_type": "stream",
     "text": [
      "## Results for method: Multi-Method\n",
      "\n",
      "    * Errors: RMSE = 1.30, MAE = 1.09, MAX = 3.70, PCC = 0.94, CCC = 0.88, SNR = -2.44\n",
      "\n",
      "## videoID: 23\n",
      "D:\\OneDrive - Heriot-Watt University\\Computer Science Uni\\Year 4\\Datasets\\UBFC_DATASET\\DATASET_2\\subject35\\vid.avi\n",
      "## Computing method: CUPY_CHROM_FILTER\n",
      "  pre-filter: BPFILTER\n",
      "  post-filter: BPFILTER\n",
      "## Computing method: CUPY_POS_FILTER\n",
      "  pre-filter: BPFILTER\n",
      "  post-filter: BPFILTER\n",
      "## Computing method: CPU_PCA_ALL\n"
     ]
    },
    {
     "name": "stderr",
     "output_type": "stream",
     "text": [
      "D:\\anaconda3\\envs\\pyvhr\\lib\\site-packages\\pyvhr-1.0.2-py3.8.egg\\pyVHR\\analysis\\multi_method_suite.py:364: FutureWarning: The frame.append method is deprecated and will be removed from pandas in a future version. Use pandas.concat instead.\n",
      "  self.dataFrame = self.dataFrame.append(\n"
     ]
    },
    {
     "name": "stdout",
     "output_type": "stream",
     "text": [
      "## Results for method: CUPY_CHROM_FILTER\n",
      "\n",
      "    * Errors: RMSE = 0.95, MAE = 0.67, MAX = 3.85, PCC = 1.00, CCC = 1.00, SNR = 3.34\n"
     ]
    },
    {
     "name": "stderr",
     "output_type": "stream",
     "text": [
      "D:\\anaconda3\\envs\\pyvhr\\lib\\site-packages\\pyvhr-1.0.2-py3.8.egg\\pyVHR\\analysis\\multi_method_suite.py:364: FutureWarning: The frame.append method is deprecated and will be removed from pandas in a future version. Use pandas.concat instead.\n",
      "  self.dataFrame = self.dataFrame.append(\n"
     ]
    },
    {
     "name": "stdout",
     "output_type": "stream",
     "text": [
      "## Results for method: CUPY_POS_FILTER\n",
      "\n",
      "    * Errors: RMSE = 1.58, MAE = 1.23, MAX = 5.02, PCC = 0.99, CCC = 0.99, SNR = 3.34\n"
     ]
    },
    {
     "name": "stderr",
     "output_type": "stream",
     "text": [
      "D:\\anaconda3\\envs\\pyvhr\\lib\\site-packages\\pyvhr-1.0.2-py3.8.egg\\pyVHR\\analysis\\multi_method_suite.py:364: FutureWarning: The frame.append method is deprecated and will be removed from pandas in a future version. Use pandas.concat instead.\n",
      "  self.dataFrame = self.dataFrame.append(\n"
     ]
    },
    {
     "name": "stdout",
     "output_type": "stream",
     "text": [
      "## Results for method: CPU_PCA_ALL\n",
      "\n",
      "    * Errors: RMSE = 0.90, MAE = 0.67, MAX = 2.98, PCC = 1.00, CCC = 1.00, SNR = 3.34\n"
     ]
    },
    {
     "name": "stderr",
     "output_type": "stream",
     "text": [
      "D:\\anaconda3\\envs\\pyvhr\\lib\\site-packages\\pyvhr-1.0.2-py3.8.egg\\pyVHR\\analysis\\multi_method_suite.py:364: FutureWarning: The frame.append method is deprecated and will be removed from pandas in a future version. Use pandas.concat instead.\n",
      "  self.dataFrame = self.dataFrame.append(\n"
     ]
    },
    {
     "name": "stdout",
     "output_type": "stream",
     "text": [
      "## Results for method: Multi-Method\n",
      "\n",
      "    * Errors: RMSE = 0.94, MAE = 0.72, MAX = 2.98, PCC = 1.00, CCC = 1.00, SNR = 3.34\n",
      "\n",
      "## videoID: 24\n",
      "D:\\OneDrive - Heriot-Watt University\\Computer Science Uni\\Year 4\\Datasets\\UBFC_DATASET\\DATASET_2\\subject36\\vid.avi\n",
      "## Computing method: CUPY_CHROM_FILTER\n",
      "  pre-filter: BPFILTER\n",
      "  post-filter: BPFILTER\n",
      "## Computing method: CUPY_POS_FILTER\n",
      "  pre-filter: BPFILTER\n",
      "  post-filter: BPFILTER\n",
      "## Computing method: CPU_PCA_ALL\n"
     ]
    },
    {
     "name": "stderr",
     "output_type": "stream",
     "text": [
      "D:\\anaconda3\\envs\\pyvhr\\lib\\site-packages\\pyvhr-1.0.2-py3.8.egg\\pyVHR\\analysis\\multi_method_suite.py:364: FutureWarning: The frame.append method is deprecated and will be removed from pandas in a future version. Use pandas.concat instead.\n",
      "  self.dataFrame = self.dataFrame.append(\n"
     ]
    },
    {
     "name": "stdout",
     "output_type": "stream",
     "text": [
      "## Results for method: CUPY_CHROM_FILTER\n",
      "\n",
      "    * Errors: RMSE = 0.94, MAE = 0.70, MAX = 3.43, PCC = 0.99, CCC = 0.99, SNR = -2.03\n"
     ]
    },
    {
     "name": "stderr",
     "output_type": "stream",
     "text": [
      "D:\\anaconda3\\envs\\pyvhr\\lib\\site-packages\\pyvhr-1.0.2-py3.8.egg\\pyVHR\\analysis\\multi_method_suite.py:364: FutureWarning: The frame.append method is deprecated and will be removed from pandas in a future version. Use pandas.concat instead.\n",
      "  self.dataFrame = self.dataFrame.append(\n"
     ]
    },
    {
     "name": "stdout",
     "output_type": "stream",
     "text": [
      "## Results for method: CUPY_POS_FILTER\n",
      "\n",
      "    * Errors: RMSE = 5.75, MAE = 4.66, MAX = 13.27, PCC = 0.91, CCC = 0.77, SNR = -2.03\n"
     ]
    },
    {
     "name": "stderr",
     "output_type": "stream",
     "text": [
      "D:\\anaconda3\\envs\\pyvhr\\lib\\site-packages\\pyvhr-1.0.2-py3.8.egg\\pyVHR\\analysis\\multi_method_suite.py:364: FutureWarning: The frame.append method is deprecated and will be removed from pandas in a future version. Use pandas.concat instead.\n",
      "  self.dataFrame = self.dataFrame.append(\n"
     ]
    },
    {
     "name": "stdout",
     "output_type": "stream",
     "text": [
      "## Results for method: CPU_PCA_ALL\n",
      "\n",
      "    * Errors: RMSE = 5.26, MAE = 1.88, MAX = 39.79, PCC = 0.88, CCC = 0.84, SNR = -2.03\n"
     ]
    },
    {
     "name": "stderr",
     "output_type": "stream",
     "text": [
      "D:\\anaconda3\\envs\\pyvhr\\lib\\site-packages\\pyvhr-1.0.2-py3.8.egg\\pyVHR\\analysis\\multi_method_suite.py:364: FutureWarning: The frame.append method is deprecated and will be removed from pandas in a future version. Use pandas.concat instead.\n",
      "  self.dataFrame = self.dataFrame.append(\n"
     ]
    },
    {
     "name": "stdout",
     "output_type": "stream",
     "text": [
      "## Results for method: Multi-Method\n",
      "\n",
      "    * Errors: RMSE = 1.43, MAE = 1.04, MAX = 6.06, PCC = 0.99, CCC = 0.98, SNR = -2.03\n",
      "\n",
      "## videoID: 25\n",
      "D:\\OneDrive - Heriot-Watt University\\Computer Science Uni\\Year 4\\Datasets\\UBFC_DATASET\\DATASET_2\\subject37\\vid.avi\n",
      "## Computing method: CUPY_CHROM_FILTER\n",
      "  pre-filter: BPFILTER\n",
      "  post-filter: BPFILTER\n",
      "## Computing method: CUPY_POS_FILTER\n",
      "  pre-filter: BPFILTER\n",
      "  post-filter: BPFILTER\n",
      "## Computing method: CPU_PCA_ALL\n"
     ]
    },
    {
     "name": "stderr",
     "output_type": "stream",
     "text": [
      "D:\\anaconda3\\envs\\pyvhr\\lib\\site-packages\\pyvhr-1.0.2-py3.8.egg\\pyVHR\\analysis\\multi_method_suite.py:364: FutureWarning: The frame.append method is deprecated and will be removed from pandas in a future version. Use pandas.concat instead.\n",
      "  self.dataFrame = self.dataFrame.append(\n"
     ]
    },
    {
     "name": "stdout",
     "output_type": "stream",
     "text": [
      "## Results for method: CUPY_CHROM_FILTER\n",
      "\n",
      "    * Errors: RMSE = 1.29, MAE = 1.04, MAX = 3.38, PCC = 0.98, CCC = 0.97, SNR = 0.14\n"
     ]
    },
    {
     "name": "stderr",
     "output_type": "stream",
     "text": [
      "D:\\anaconda3\\envs\\pyvhr\\lib\\site-packages\\pyvhr-1.0.2-py3.8.egg\\pyVHR\\analysis\\multi_method_suite.py:364: FutureWarning: The frame.append method is deprecated and will be removed from pandas in a future version. Use pandas.concat instead.\n",
      "  self.dataFrame = self.dataFrame.append(\n"
     ]
    },
    {
     "name": "stdout",
     "output_type": "stream",
     "text": [
      "## Results for method: CUPY_POS_FILTER\n",
      "\n",
      "    * Errors: RMSE = 15.44, MAE = 14.97, MAX = 25.16, PCC = 0.70, CCC = 0.11, SNR = 0.14\n"
     ]
    },
    {
     "name": "stderr",
     "output_type": "stream",
     "text": [
      "D:\\anaconda3\\envs\\pyvhr\\lib\\site-packages\\pyvhr-1.0.2-py3.8.egg\\pyVHR\\analysis\\multi_method_suite.py:364: FutureWarning: The frame.append method is deprecated and will be removed from pandas in a future version. Use pandas.concat instead.\n",
      "  self.dataFrame = self.dataFrame.append(\n"
     ]
    },
    {
     "name": "stdout",
     "output_type": "stream",
     "text": [
      "## Results for method: CPU_PCA_ALL\n",
      "\n",
      "    * Errors: RMSE = 3.00, MAE = 1.49, MAX = 13.32, PCC = 0.85, CCC = 0.83, SNR = 0.14\n"
     ]
    },
    {
     "name": "stderr",
     "output_type": "stream",
     "text": [
      "D:\\anaconda3\\envs\\pyvhr\\lib\\site-packages\\pyvhr-1.0.2-py3.8.egg\\pyVHR\\analysis\\multi_method_suite.py:364: FutureWarning: The frame.append method is deprecated and will be removed from pandas in a future version. Use pandas.concat instead.\n",
      "  self.dataFrame = self.dataFrame.append(\n"
     ]
    },
    {
     "name": "stdout",
     "output_type": "stream",
     "text": [
      "## Results for method: Multi-Method\n",
      "\n",
      "    * Errors: RMSE = 0.86, MAE = 0.70, MAX = 1.86, PCC = 0.99, CCC = 0.99, SNR = 0.14\n",
      "\n",
      "## videoID: 26\n",
      "D:\\OneDrive - Heriot-Watt University\\Computer Science Uni\\Year 4\\Datasets\\UBFC_DATASET\\DATASET_2\\subject38\\vid.avi\n",
      "## Computing method: CUPY_CHROM_FILTER\n",
      "  pre-filter: BPFILTER\n",
      "  post-filter: BPFILTER\n",
      "## Computing method: CUPY_POS_FILTER\n",
      "  pre-filter: BPFILTER\n",
      "  post-filter: BPFILTER\n",
      "## Computing method: CPU_PCA_ALL\n"
     ]
    },
    {
     "name": "stderr",
     "output_type": "stream",
     "text": [
      "D:\\anaconda3\\envs\\pyvhr\\lib\\site-packages\\pyvhr-1.0.2-py3.8.egg\\pyVHR\\analysis\\multi_method_suite.py:364: FutureWarning: The frame.append method is deprecated and will be removed from pandas in a future version. Use pandas.concat instead.\n",
      "  self.dataFrame = self.dataFrame.append(\n"
     ]
    },
    {
     "name": "stdout",
     "output_type": "stream",
     "text": [
      "## Results for method: CUPY_CHROM_FILTER\n",
      "\n",
      "    * Errors: RMSE = 0.86, MAE = 0.69, MAX = 2.07, PCC = 0.96, CCC = 0.96, SNR = -1.50\n"
     ]
    },
    {
     "name": "stderr",
     "output_type": "stream",
     "text": [
      "D:\\anaconda3\\envs\\pyvhr\\lib\\site-packages\\pyvhr-1.0.2-py3.8.egg\\pyVHR\\analysis\\multi_method_suite.py:364: FutureWarning: The frame.append method is deprecated and will be removed from pandas in a future version. Use pandas.concat instead.\n",
      "  self.dataFrame = self.dataFrame.append(\n"
     ]
    },
    {
     "name": "stdout",
     "output_type": "stream",
     "text": [
      "## Results for method: CUPY_POS_FILTER\n",
      "\n",
      "    * Errors: RMSE = 2.68, MAE = 2.08, MAX = 8.50, PCC = 0.75, CCC = 0.63, SNR = -1.50\n"
     ]
    },
    {
     "name": "stderr",
     "output_type": "stream",
     "text": [
      "D:\\anaconda3\\envs\\pyvhr\\lib\\site-packages\\pyvhr-1.0.2-py3.8.egg\\pyVHR\\analysis\\multi_method_suite.py:364: FutureWarning: The frame.append method is deprecated and will be removed from pandas in a future version. Use pandas.concat instead.\n",
      "  self.dataFrame = self.dataFrame.append(\n"
     ]
    },
    {
     "name": "stdout",
     "output_type": "stream",
     "text": [
      "## Results for method: CPU_PCA_ALL\n",
      "\n",
      "    * Errors: RMSE = 9.56, MAE = 2.86, MAX = 68.55, PCC = 0.18, CCC = 0.10, SNR = -1.50\n"
     ]
    },
    {
     "name": "stderr",
     "output_type": "stream",
     "text": [
      "D:\\anaconda3\\envs\\pyvhr\\lib\\site-packages\\pyvhr-1.0.2-py3.8.egg\\pyVHR\\analysis\\multi_method_suite.py:364: FutureWarning: The frame.append method is deprecated and will be removed from pandas in a future version. Use pandas.concat instead.\n",
      "  self.dataFrame = self.dataFrame.append(\n"
     ]
    },
    {
     "name": "stdout",
     "output_type": "stream",
     "text": [
      "## Results for method: Multi-Method\n",
      "\n",
      "    * Errors: RMSE = 1.05, MAE = 0.80, MAX = 3.24, PCC = 0.96, CCC = 0.93, SNR = -1.50\n",
      "\n",
      "## videoID: 27\n",
      "D:\\OneDrive - Heriot-Watt University\\Computer Science Uni\\Year 4\\Datasets\\UBFC_DATASET\\DATASET_2\\subject39\\vid.avi\n",
      "## Computing method: CUPY_CHROM_FILTER\n",
      "  pre-filter: BPFILTER\n",
      "  post-filter: BPFILTER\n",
      "## Computing method: CUPY_POS_FILTER\n",
      "  pre-filter: BPFILTER\n",
      "  post-filter: BPFILTER\n",
      "## Computing method: CPU_PCA_ALL\n"
     ]
    },
    {
     "name": "stderr",
     "output_type": "stream",
     "text": [
      "D:\\anaconda3\\envs\\pyvhr\\lib\\site-packages\\pyvhr-1.0.2-py3.8.egg\\pyVHR\\analysis\\multi_method_suite.py:364: FutureWarning: The frame.append method is deprecated and will be removed from pandas in a future version. Use pandas.concat instead.\n",
      "  self.dataFrame = self.dataFrame.append(\n"
     ]
    },
    {
     "name": "stdout",
     "output_type": "stream",
     "text": [
      "## Results for method: CUPY_CHROM_FILTER\n",
      "\n",
      "    * Errors: RMSE = 1.67, MAE = 1.21, MAX = 5.60, PCC = 0.89, CCC = 0.86, SNR = -1.72\n"
     ]
    },
    {
     "name": "stderr",
     "output_type": "stream",
     "text": [
      "D:\\anaconda3\\envs\\pyvhr\\lib\\site-packages\\pyvhr-1.0.2-py3.8.egg\\pyVHR\\analysis\\multi_method_suite.py:364: FutureWarning: The frame.append method is deprecated and will be removed from pandas in a future version. Use pandas.concat instead.\n",
      "  self.dataFrame = self.dataFrame.append(\n"
     ]
    },
    {
     "name": "stdout",
     "output_type": "stream",
     "text": [
      "## Results for method: CUPY_POS_FILTER\n",
      "\n",
      "    * Errors: RMSE = 3.52, MAE = 2.65, MAX = 9.38, PCC = 0.51, CCC = 0.50, SNR = -1.72\n"
     ]
    },
    {
     "name": "stderr",
     "output_type": "stream",
     "text": [
      "D:\\anaconda3\\envs\\pyvhr\\lib\\site-packages\\pyvhr-1.0.2-py3.8.egg\\pyVHR\\analysis\\multi_method_suite.py:364: FutureWarning: The frame.append method is deprecated and will be removed from pandas in a future version. Use pandas.concat instead.\n",
      "  self.dataFrame = self.dataFrame.append(\n"
     ]
    },
    {
     "name": "stdout",
     "output_type": "stream",
     "text": [
      "## Results for method: CPU_PCA_ALL\n",
      "\n",
      "    * Errors: RMSE = 3.90, MAE = 2.08, MAX = 21.15, PCC = 0.51, CCC = 0.44, SNR = -1.72\n"
     ]
    },
    {
     "name": "stderr",
     "output_type": "stream",
     "text": [
      "D:\\anaconda3\\envs\\pyvhr\\lib\\site-packages\\pyvhr-1.0.2-py3.8.egg\\pyVHR\\analysis\\multi_method_suite.py:364: FutureWarning: The frame.append method is deprecated and will be removed from pandas in a future version. Use pandas.concat instead.\n",
      "  self.dataFrame = self.dataFrame.append(\n"
     ]
    },
    {
     "name": "stdout",
     "output_type": "stream",
     "text": [
      "## Results for method: Multi-Method\n",
      "\n",
      "    * Errors: RMSE = 1.96, MAE = 1.45, MAX = 7.49, PCC = 0.86, CCC = 0.80, SNR = -1.72\n",
      "\n",
      "## videoID: 28\n",
      "D:\\OneDrive - Heriot-Watt University\\Computer Science Uni\\Year 4\\Datasets\\UBFC_DATASET\\DATASET_2\\subject4\\vid.avi\n",
      "## Computing method: CUPY_CHROM_FILTER\n",
      "  pre-filter: BPFILTER\n",
      "  post-filter: BPFILTER\n",
      "## Computing method: CUPY_POS_FILTER\n",
      "  pre-filter: BPFILTER\n",
      "  post-filter: BPFILTER\n",
      "## Computing method: CPU_PCA_ALL\n"
     ]
    },
    {
     "name": "stderr",
     "output_type": "stream",
     "text": [
      "D:\\anaconda3\\envs\\pyvhr\\lib\\site-packages\\pyvhr-1.0.2-py3.8.egg\\pyVHR\\analysis\\multi_method_suite.py:364: FutureWarning: The frame.append method is deprecated and will be removed from pandas in a future version. Use pandas.concat instead.\n",
      "  self.dataFrame = self.dataFrame.append(\n"
     ]
    },
    {
     "name": "stdout",
     "output_type": "stream",
     "text": [
      "## Results for method: CUPY_CHROM_FILTER\n",
      "\n",
      "    * Errors: RMSE = 3.54, MAE = 2.52, MAX = 11.00, PCC = 0.93, CCC = 0.90, SNR = -1.38\n"
     ]
    },
    {
     "name": "stderr",
     "output_type": "stream",
     "text": [
      "D:\\anaconda3\\envs\\pyvhr\\lib\\site-packages\\pyvhr-1.0.2-py3.8.egg\\pyVHR\\analysis\\multi_method_suite.py:364: FutureWarning: The frame.append method is deprecated and will be removed from pandas in a future version. Use pandas.concat instead.\n",
      "  self.dataFrame = self.dataFrame.append(\n"
     ]
    },
    {
     "name": "stdout",
     "output_type": "stream",
     "text": [
      "## Results for method: CUPY_POS_FILTER\n",
      "\n",
      "    * Errors: RMSE = 6.68, MAE = 5.24, MAX = 19.70, PCC = 0.74, CCC = 0.63, SNR = -1.38\n"
     ]
    },
    {
     "name": "stderr",
     "output_type": "stream",
     "text": [
      "D:\\anaconda3\\envs\\pyvhr\\lib\\site-packages\\pyvhr-1.0.2-py3.8.egg\\pyVHR\\analysis\\multi_method_suite.py:364: FutureWarning: The frame.append method is deprecated and will be removed from pandas in a future version. Use pandas.concat instead.\n",
      "  self.dataFrame = self.dataFrame.append(\n"
     ]
    },
    {
     "name": "stdout",
     "output_type": "stream",
     "text": [
      "## Results for method: CPU_PCA_ALL\n",
      "\n",
      "    * Errors: RMSE = 3.33, MAE = 2.54, MAX = 11.43, PCC = 0.95, CCC = 0.92, SNR = -1.38\n"
     ]
    },
    {
     "name": "stderr",
     "output_type": "stream",
     "text": [
      "D:\\anaconda3\\envs\\pyvhr\\lib\\site-packages\\pyvhr-1.0.2-py3.8.egg\\pyVHR\\analysis\\multi_method_suite.py:364: FutureWarning: The frame.append method is deprecated and will be removed from pandas in a future version. Use pandas.concat instead.\n",
      "  self.dataFrame = self.dataFrame.append(\n"
     ]
    },
    {
     "name": "stdout",
     "output_type": "stream",
     "text": [
      "## Results for method: Multi-Method\n",
      "\n",
      "    * Errors: RMSE = 3.50, MAE = 2.55, MAX = 11.43, PCC = 0.93, CCC = 0.90, SNR = -1.38\n",
      "\n",
      "## videoID: 29\n",
      "D:\\OneDrive - Heriot-Watt University\\Computer Science Uni\\Year 4\\Datasets\\UBFC_DATASET\\DATASET_2\\subject40\\vid.avi\n",
      "## Computing method: CUPY_CHROM_FILTER\n",
      "  pre-filter: BPFILTER\n",
      "  post-filter: BPFILTER\n",
      "## Computing method: CUPY_POS_FILTER\n",
      "  pre-filter: BPFILTER\n",
      "  post-filter: BPFILTER\n",
      "## Computing method: CPU_PCA_ALL\n"
     ]
    },
    {
     "name": "stderr",
     "output_type": "stream",
     "text": [
      "D:\\anaconda3\\envs\\pyvhr\\lib\\site-packages\\pyvhr-1.0.2-py3.8.egg\\pyVHR\\analysis\\multi_method_suite.py:364: FutureWarning: The frame.append method is deprecated and will be removed from pandas in a future version. Use pandas.concat instead.\n",
      "  self.dataFrame = self.dataFrame.append(\n"
     ]
    },
    {
     "name": "stdout",
     "output_type": "stream",
     "text": [
      "## Results for method: CUPY_CHROM_FILTER\n",
      "\n",
      "    * Errors: RMSE = 1.20, MAE = 0.92, MAX = 4.27, PCC = 0.95, CCC = 0.94, SNR = -0.75\n"
     ]
    },
    {
     "name": "stderr",
     "output_type": "stream",
     "text": [
      "D:\\anaconda3\\envs\\pyvhr\\lib\\site-packages\\pyvhr-1.0.2-py3.8.egg\\pyVHR\\analysis\\multi_method_suite.py:364: FutureWarning: The frame.append method is deprecated and will be removed from pandas in a future version. Use pandas.concat instead.\n",
      "  self.dataFrame = self.dataFrame.append(\n"
     ]
    },
    {
     "name": "stdout",
     "output_type": "stream",
     "text": [
      "## Results for method: CUPY_POS_FILTER\n",
      "\n",
      "    * Errors: RMSE = 3.06, MAE = 2.35, MAX = 8.94, PCC = 0.76, CCC = 0.70, SNR = -0.75\n"
     ]
    },
    {
     "name": "stderr",
     "output_type": "stream",
     "text": [
      "D:\\anaconda3\\envs\\pyvhr\\lib\\site-packages\\pyvhr-1.0.2-py3.8.egg\\pyVHR\\analysis\\multi_method_suite.py:364: FutureWarning: The frame.append method is deprecated and will be removed from pandas in a future version. Use pandas.concat instead.\n",
      "  self.dataFrame = self.dataFrame.append(\n"
     ]
    },
    {
     "name": "stdout",
     "output_type": "stream",
     "text": [
      "## Results for method: CPU_PCA_ALL\n",
      "\n",
      "    * Errors: RMSE = 1.60, MAE = 1.29, MAX = 4.27, PCC = 0.95, CCC = 0.90, SNR = -0.75\n"
     ]
    },
    {
     "name": "stderr",
     "output_type": "stream",
     "text": [
      "D:\\anaconda3\\envs\\pyvhr\\lib\\site-packages\\pyvhr-1.0.2-py3.8.egg\\pyVHR\\analysis\\multi_method_suite.py:364: FutureWarning: The frame.append method is deprecated and will be removed from pandas in a future version. Use pandas.concat instead.\n",
      "  self.dataFrame = self.dataFrame.append(\n"
     ]
    },
    {
     "name": "stdout",
     "output_type": "stream",
     "text": [
      "## Results for method: Multi-Method\n",
      "\n",
      "    * Errors: RMSE = 1.32, MAE = 1.05, MAX = 4.27, PCC = 0.96, CCC = 0.93, SNR = -0.75\n",
      "\n",
      "## videoID: 30\n",
      "D:\\OneDrive - Heriot-Watt University\\Computer Science Uni\\Year 4\\Datasets\\UBFC_DATASET\\DATASET_2\\subject41\\vid.avi\n",
      "## Computing method: CUPY_CHROM_FILTER\n",
      "  pre-filter: BPFILTER\n",
      "  post-filter: BPFILTER\n",
      "## Computing method: CUPY_POS_FILTER\n",
      "  pre-filter: BPFILTER\n",
      "  post-filter: BPFILTER\n",
      "## Computing method: CPU_PCA_ALL\n"
     ]
    },
    {
     "name": "stderr",
     "output_type": "stream",
     "text": [
      "D:\\anaconda3\\envs\\pyvhr\\lib\\site-packages\\pyvhr-1.0.2-py3.8.egg\\pyVHR\\analysis\\multi_method_suite.py:364: FutureWarning: The frame.append method is deprecated and will be removed from pandas in a future version. Use pandas.concat instead.\n",
      "  self.dataFrame = self.dataFrame.append(\n"
     ]
    },
    {
     "name": "stdout",
     "output_type": "stream",
     "text": [
      "## Results for method: CUPY_CHROM_FILTER\n",
      "\n",
      "    * Errors: RMSE = 13.21, MAE = 7.45, MAX = 49.61, PCC = 0.03, CCC = 0.02, SNR = -5.51\n"
     ]
    },
    {
     "name": "stderr",
     "output_type": "stream",
     "text": [
      "D:\\anaconda3\\envs\\pyvhr\\lib\\site-packages\\pyvhr-1.0.2-py3.8.egg\\pyVHR\\analysis\\multi_method_suite.py:364: FutureWarning: The frame.append method is deprecated and will be removed from pandas in a future version. Use pandas.concat instead.\n",
      "  self.dataFrame = self.dataFrame.append(\n"
     ]
    },
    {
     "name": "stdout",
     "output_type": "stream",
     "text": [
      "## Results for method: CUPY_POS_FILTER\n",
      "\n",
      "    * Errors: RMSE = 21.56, MAE = 19.07, MAX = 50.94, PCC = 0.13, CCC = 0.03, SNR = -5.51\n"
     ]
    },
    {
     "name": "stderr",
     "output_type": "stream",
     "text": [
      "D:\\anaconda3\\envs\\pyvhr\\lib\\site-packages\\pyvhr-1.0.2-py3.8.egg\\pyVHR\\analysis\\multi_method_suite.py:364: FutureWarning: The frame.append method is deprecated and will be removed from pandas in a future version. Use pandas.concat instead.\n",
      "  self.dataFrame = self.dataFrame.append(\n"
     ]
    },
    {
     "name": "stdout",
     "output_type": "stream",
     "text": [
      "## Results for method: CPU_PCA_ALL\n",
      "\n",
      "    * Errors: RMSE = 45.40, MAE = 41.21, MAX = 75.78, PCC = 0.05, CCC = 0.00, SNR = -5.51\n"
     ]
    },
    {
     "name": "stderr",
     "output_type": "stream",
     "text": [
      "D:\\anaconda3\\envs\\pyvhr\\lib\\site-packages\\pyvhr-1.0.2-py3.8.egg\\pyVHR\\analysis\\multi_method_suite.py:364: FutureWarning: The frame.append method is deprecated and will be removed from pandas in a future version. Use pandas.concat instead.\n",
      "  self.dataFrame = self.dataFrame.append(\n"
     ]
    },
    {
     "name": "stdout",
     "output_type": "stream",
     "text": [
      "## Results for method: Multi-Method\n",
      "\n",
      "    * Errors: RMSE = 30.63, MAE = 25.77, MAX = 60.09, PCC = 0.05, CCC = 0.01, SNR = -5.51\n",
      "\n",
      "## videoID: 31\n",
      "D:\\OneDrive - Heriot-Watt University\\Computer Science Uni\\Year 4\\Datasets\\UBFC_DATASET\\DATASET_2\\subject42\\vid.avi\n",
      "## Computing method: CUPY_CHROM_FILTER\n",
      "  pre-filter: BPFILTER\n",
      "  post-filter: BPFILTER\n",
      "## Computing method: CUPY_POS_FILTER\n",
      "  pre-filter: BPFILTER\n",
      "  post-filter: BPFILTER\n",
      "## Computing method: CPU_PCA_ALL\n"
     ]
    },
    {
     "name": "stderr",
     "output_type": "stream",
     "text": [
      "D:\\anaconda3\\envs\\pyvhr\\lib\\site-packages\\pyvhr-1.0.2-py3.8.egg\\pyVHR\\analysis\\multi_method_suite.py:364: FutureWarning: The frame.append method is deprecated and will be removed from pandas in a future version. Use pandas.concat instead.\n",
      "  self.dataFrame = self.dataFrame.append(\n"
     ]
    },
    {
     "name": "stdout",
     "output_type": "stream",
     "text": [
      "## Results for method: CUPY_CHROM_FILTER\n",
      "\n",
      "    * Errors: RMSE = 0.86, MAE = 0.62, MAX = 3.02, PCC = 0.99, CCC = 0.99, SNR = -0.54\n"
     ]
    },
    {
     "name": "stderr",
     "output_type": "stream",
     "text": [
      "D:\\anaconda3\\envs\\pyvhr\\lib\\site-packages\\pyvhr-1.0.2-py3.8.egg\\pyVHR\\analysis\\multi_method_suite.py:364: FutureWarning: The frame.append method is deprecated and will be removed from pandas in a future version. Use pandas.concat instead.\n",
      "  self.dataFrame = self.dataFrame.append(\n"
     ]
    },
    {
     "name": "stdout",
     "output_type": "stream",
     "text": [
      "## Results for method: CUPY_POS_FILTER\n",
      "\n",
      "    * Errors: RMSE = 3.64, MAE = 2.76, MAX = 11.29, PCC = 0.85, CCC = 0.82, SNR = -0.54\n"
     ]
    },
    {
     "name": "stderr",
     "output_type": "stream",
     "text": [
      "D:\\anaconda3\\envs\\pyvhr\\lib\\site-packages\\pyvhr-1.0.2-py3.8.egg\\pyVHR\\analysis\\multi_method_suite.py:364: FutureWarning: The frame.append method is deprecated and will be removed from pandas in a future version. Use pandas.concat instead.\n",
      "  self.dataFrame = self.dataFrame.append(\n"
     ]
    },
    {
     "name": "stdout",
     "output_type": "stream",
     "text": [
      "## Results for method: CPU_PCA_ALL\n",
      "\n",
      "    * Errors: RMSE = 0.97, MAE = 0.73, MAX = 3.36, PCC = 0.99, CCC = 0.99, SNR = -0.54\n"
     ]
    },
    {
     "name": "stderr",
     "output_type": "stream",
     "text": [
      "D:\\anaconda3\\envs\\pyvhr\\lib\\site-packages\\pyvhr-1.0.2-py3.8.egg\\pyVHR\\analysis\\multi_method_suite.py:364: FutureWarning: The frame.append method is deprecated and will be removed from pandas in a future version. Use pandas.concat instead.\n",
      "  self.dataFrame = self.dataFrame.append(\n"
     ]
    },
    {
     "name": "stdout",
     "output_type": "stream",
     "text": [
      "## Results for method: Multi-Method\n",
      "\n",
      "    * Errors: RMSE = 0.87, MAE = 0.62, MAX = 3.02, PCC = 0.99, CCC = 0.99, SNR = -0.54\n",
      "\n",
      "## videoID: 32\n",
      "D:\\OneDrive - Heriot-Watt University\\Computer Science Uni\\Year 4\\Datasets\\UBFC_DATASET\\DATASET_2\\subject43\\vid.avi\n",
      "## Computing method: CUPY_CHROM_FILTER\n",
      "  pre-filter: BPFILTER\n",
      "  post-filter: BPFILTER\n",
      "## Computing method: CUPY_POS_FILTER\n",
      "  pre-filter: BPFILTER\n",
      "  post-filter: BPFILTER\n",
      "## Computing method: CPU_PCA_ALL\n"
     ]
    },
    {
     "name": "stderr",
     "output_type": "stream",
     "text": [
      "D:\\anaconda3\\envs\\pyvhr\\lib\\site-packages\\pyvhr-1.0.2-py3.8.egg\\pyVHR\\analysis\\multi_method_suite.py:364: FutureWarning: The frame.append method is deprecated and will be removed from pandas in a future version. Use pandas.concat instead.\n",
      "  self.dataFrame = self.dataFrame.append(\n"
     ]
    },
    {
     "name": "stdout",
     "output_type": "stream",
     "text": [
      "## Results for method: CUPY_CHROM_FILTER\n",
      "\n",
      "    * Errors: RMSE = 1.59, MAE = 1.31, MAX = 4.80, PCC = 0.95, CCC = 0.93, SNR = -2.72\n"
     ]
    },
    {
     "name": "stderr",
     "output_type": "stream",
     "text": [
      "D:\\anaconda3\\envs\\pyvhr\\lib\\site-packages\\pyvhr-1.0.2-py3.8.egg\\pyVHR\\analysis\\multi_method_suite.py:364: FutureWarning: The frame.append method is deprecated and will be removed from pandas in a future version. Use pandas.concat instead.\n",
      "  self.dataFrame = self.dataFrame.append(\n"
     ]
    },
    {
     "name": "stdout",
     "output_type": "stream",
     "text": [
      "## Results for method: CUPY_POS_FILTER\n",
      "\n",
      "    * Errors: RMSE = 6.76, MAE = 5.07, MAX = 18.69, PCC = 0.43, CCC = 0.34, SNR = -2.72\n"
     ]
    },
    {
     "name": "stderr",
     "output_type": "stream",
     "text": [
      "D:\\anaconda3\\envs\\pyvhr\\lib\\site-packages\\pyvhr-1.0.2-py3.8.egg\\pyVHR\\analysis\\multi_method_suite.py:364: FutureWarning: The frame.append method is deprecated and will be removed from pandas in a future version. Use pandas.concat instead.\n",
      "  self.dataFrame = self.dataFrame.append(\n"
     ]
    },
    {
     "name": "stdout",
     "output_type": "stream",
     "text": [
      "## Results for method: CPU_PCA_ALL\n",
      "\n",
      "    * Errors: RMSE = 29.57, MAE = 19.68, MAX = 56.88, PCC = 0.17, CCC = 0.04, SNR = -2.72\n"
     ]
    },
    {
     "name": "stderr",
     "output_type": "stream",
     "text": [
      "D:\\anaconda3\\envs\\pyvhr\\lib\\site-packages\\pyvhr-1.0.2-py3.8.egg\\pyVHR\\analysis\\multi_method_suite.py:364: FutureWarning: The frame.append method is deprecated and will be removed from pandas in a future version. Use pandas.concat instead.\n",
      "  self.dataFrame = self.dataFrame.append(\n"
     ]
    },
    {
     "name": "stdout",
     "output_type": "stream",
     "text": [
      "## Results for method: Multi-Method\n",
      "\n",
      "    * Errors: RMSE = 9.96, MAE = 5.67, MAX = 29.37, PCC = 0.49, CCC = 0.30, SNR = -2.72\n",
      "\n",
      "## videoID: 33\n",
      "D:\\OneDrive - Heriot-Watt University\\Computer Science Uni\\Year 4\\Datasets\\UBFC_DATASET\\DATASET_2\\subject44\\vid.avi\n",
      "## Computing method: CUPY_CHROM_FILTER\n",
      "  pre-filter: BPFILTER\n",
      "  post-filter: BPFILTER\n",
      "## Computing method: CUPY_POS_FILTER\n",
      "  pre-filter: BPFILTER\n",
      "  post-filter: BPFILTER\n",
      "## Computing method: CPU_PCA_ALL\n"
     ]
    },
    {
     "name": "stderr",
     "output_type": "stream",
     "text": [
      "D:\\anaconda3\\envs\\pyvhr\\lib\\site-packages\\pyvhr-1.0.2-py3.8.egg\\pyVHR\\analysis\\multi_method_suite.py:364: FutureWarning: The frame.append method is deprecated and will be removed from pandas in a future version. Use pandas.concat instead.\n",
      "  self.dataFrame = self.dataFrame.append(\n"
     ]
    },
    {
     "name": "stdout",
     "output_type": "stream",
     "text": [
      "## Results for method: CUPY_CHROM_FILTER\n",
      "\n",
      "    * Errors: RMSE = 8.18, MAE = 3.24, MAX = 43.13, PCC = 0.28, CCC = 0.24, SNR = -3.01\n"
     ]
    },
    {
     "name": "stderr",
     "output_type": "stream",
     "text": [
      "D:\\anaconda3\\envs\\pyvhr\\lib\\site-packages\\pyvhr-1.0.2-py3.8.egg\\pyVHR\\analysis\\multi_method_suite.py:364: FutureWarning: The frame.append method is deprecated and will be removed from pandas in a future version. Use pandas.concat instead.\n",
      "  self.dataFrame = self.dataFrame.append(\n"
     ]
    },
    {
     "name": "stdout",
     "output_type": "stream",
     "text": [
      "## Results for method: CUPY_POS_FILTER\n",
      "\n",
      "    * Errors: RMSE = 4.73, MAE = 3.50, MAX = 13.69, PCC = 0.60, CCC = 0.59, SNR = -3.01\n"
     ]
    },
    {
     "name": "stderr",
     "output_type": "stream",
     "text": [
      "D:\\anaconda3\\envs\\pyvhr\\lib\\site-packages\\pyvhr-1.0.2-py3.8.egg\\pyVHR\\analysis\\multi_method_suite.py:364: FutureWarning: The frame.append method is deprecated and will be removed from pandas in a future version. Use pandas.concat instead.\n",
      "  self.dataFrame = self.dataFrame.append(\n"
     ]
    },
    {
     "name": "stdout",
     "output_type": "stream",
     "text": [
      "## Results for method: CPU_PCA_ALL\n",
      "\n",
      "    * Errors: RMSE = 23.35, MAE = 15.26, MAX = 53.53, PCC = -0.05, CCC = -0.02, SNR = -3.01\n"
     ]
    },
    {
     "name": "stderr",
     "output_type": "stream",
     "text": [
      "D:\\anaconda3\\envs\\pyvhr\\lib\\site-packages\\pyvhr-1.0.2-py3.8.egg\\pyVHR\\analysis\\multi_method_suite.py:364: FutureWarning: The frame.append method is deprecated and will be removed from pandas in a future version. Use pandas.concat instead.\n",
      "  self.dataFrame = self.dataFrame.append(\n"
     ]
    },
    {
     "name": "stdout",
     "output_type": "stream",
     "text": [
      "## Results for method: Multi-Method\n",
      "\n",
      "    * Errors: RMSE = 12.71, MAE = 7.07, MAX = 45.73, PCC = -0.00, CCC = -0.00, SNR = -3.01\n",
      "\n",
      "## videoID: 34\n",
      "D:\\OneDrive - Heriot-Watt University\\Computer Science Uni\\Year 4\\Datasets\\UBFC_DATASET\\DATASET_2\\subject45\\vid.avi\n",
      "## Computing method: CUPY_CHROM_FILTER\n",
      "  pre-filter: BPFILTER\n",
      "  post-filter: BPFILTER\n",
      "## Computing method: CUPY_POS_FILTER\n",
      "  pre-filter: BPFILTER\n",
      "  post-filter: BPFILTER\n",
      "## Computing method: CPU_PCA_ALL\n"
     ]
    },
    {
     "name": "stderr",
     "output_type": "stream",
     "text": [
      "D:\\anaconda3\\envs\\pyvhr\\lib\\site-packages\\pyvhr-1.0.2-py3.8.egg\\pyVHR\\analysis\\multi_method_suite.py:364: FutureWarning: The frame.append method is deprecated and will be removed from pandas in a future version. Use pandas.concat instead.\n",
      "  self.dataFrame = self.dataFrame.append(\n"
     ]
    },
    {
     "name": "stdout",
     "output_type": "stream",
     "text": [
      "## Results for method: CUPY_CHROM_FILTER\n",
      "\n",
      "    * Errors: RMSE = 10.16, MAE = 2.57, MAX = 56.34, PCC = 0.50, CCC = 0.40, SNR = -2.31\n"
     ]
    },
    {
     "name": "stderr",
     "output_type": "stream",
     "text": [
      "D:\\anaconda3\\envs\\pyvhr\\lib\\site-packages\\pyvhr-1.0.2-py3.8.egg\\pyVHR\\analysis\\multi_method_suite.py:364: FutureWarning: The frame.append method is deprecated and will be removed from pandas in a future version. Use pandas.concat instead.\n",
      "  self.dataFrame = self.dataFrame.append(\n"
     ]
    },
    {
     "name": "stdout",
     "output_type": "stream",
     "text": [
      "## Results for method: CUPY_POS_FILTER\n",
      "\n",
      "    * Errors: RMSE = 1.95, MAE = 1.54, MAX = 5.63, PCC = 0.97, CCC = 0.95, SNR = -2.31\n"
     ]
    },
    {
     "name": "stderr",
     "output_type": "stream",
     "text": [
      "D:\\anaconda3\\envs\\pyvhr\\lib\\site-packages\\pyvhr-1.0.2-py3.8.egg\\pyVHR\\analysis\\multi_method_suite.py:364: FutureWarning: The frame.append method is deprecated and will be removed from pandas in a future version. Use pandas.concat instead.\n",
      "  self.dataFrame = self.dataFrame.append(\n"
     ]
    },
    {
     "name": "stdout",
     "output_type": "stream",
     "text": [
      "## Results for method: CPU_PCA_ALL\n",
      "\n",
      "    * Errors: RMSE = 27.78, MAE = 14.27, MAX = 73.88, PCC = 0.32, CCC = 0.11, SNR = -2.31\n"
     ]
    },
    {
     "name": "stderr",
     "output_type": "stream",
     "text": [
      "D:\\anaconda3\\envs\\pyvhr\\lib\\site-packages\\pyvhr-1.0.2-py3.8.egg\\pyVHR\\analysis\\multi_method_suite.py:364: FutureWarning: The frame.append method is deprecated and will be removed from pandas in a future version. Use pandas.concat instead.\n",
      "  self.dataFrame = self.dataFrame.append(\n"
     ]
    },
    {
     "name": "stdout",
     "output_type": "stream",
     "text": [
      "## Results for method: Multi-Method\n",
      "\n",
      "    * Errors: RMSE = 15.74, MAE = 5.12, MAX = 63.48, PCC = 0.33, CCC = 0.21, SNR = -2.31\n",
      "\n",
      "## videoID: 35\n",
      "D:\\OneDrive - Heriot-Watt University\\Computer Science Uni\\Year 4\\Datasets\\UBFC_DATASET\\DATASET_2\\subject46\\vid.avi\n",
      "## Computing method: CUPY_CHROM_FILTER\n",
      "  pre-filter: BPFILTER\n",
      "  post-filter: BPFILTER\n",
      "## Computing method: CUPY_POS_FILTER\n",
      "  pre-filter: BPFILTER\n",
      "  post-filter: BPFILTER\n",
      "## Computing method: CPU_PCA_ALL\n"
     ]
    },
    {
     "name": "stderr",
     "output_type": "stream",
     "text": [
      "D:\\anaconda3\\envs\\pyvhr\\lib\\site-packages\\pyvhr-1.0.2-py3.8.egg\\pyVHR\\analysis\\multi_method_suite.py:364: FutureWarning: The frame.append method is deprecated and will be removed from pandas in a future version. Use pandas.concat instead.\n",
      "  self.dataFrame = self.dataFrame.append(\n"
     ]
    },
    {
     "name": "stdout",
     "output_type": "stream",
     "text": [
      "## Results for method: CUPY_CHROM_FILTER\n",
      "\n",
      "    * Errors: RMSE = 4.20, MAE = 1.78, MAX = 24.53, PCC = 0.78, CCC = 0.76, SNR = -1.89\n"
     ]
    },
    {
     "name": "stderr",
     "output_type": "stream",
     "text": [
      "D:\\anaconda3\\envs\\pyvhr\\lib\\site-packages\\pyvhr-1.0.2-py3.8.egg\\pyVHR\\analysis\\multi_method_suite.py:364: FutureWarning: The frame.append method is deprecated and will be removed from pandas in a future version. Use pandas.concat instead.\n",
      "  self.dataFrame = self.dataFrame.append(\n"
     ]
    },
    {
     "name": "stdout",
     "output_type": "stream",
     "text": [
      "## Results for method: CUPY_POS_FILTER\n",
      "\n",
      "    * Errors: RMSE = 7.40, MAE = 4.49, MAX = 28.39, PCC = 0.50, CCC = 0.41, SNR = -1.89\n"
     ]
    },
    {
     "name": "stderr",
     "output_type": "stream",
     "text": [
      "D:\\anaconda3\\envs\\pyvhr\\lib\\site-packages\\pyvhr-1.0.2-py3.8.egg\\pyVHR\\analysis\\multi_method_suite.py:364: FutureWarning: The frame.append method is deprecated and will be removed from pandas in a future version. Use pandas.concat instead.\n",
      "  self.dataFrame = self.dataFrame.append(\n"
     ]
    },
    {
     "name": "stdout",
     "output_type": "stream",
     "text": [
      "## Results for method: CPU_PCA_ALL\n",
      "\n",
      "    * Errors: RMSE = 21.80, MAE = 11.75, MAX = 56.66, PCC = 0.09, CCC = 0.04, SNR = -1.89\n"
     ]
    },
    {
     "name": "stderr",
     "output_type": "stream",
     "text": [
      "D:\\anaconda3\\envs\\pyvhr\\lib\\site-packages\\pyvhr-1.0.2-py3.8.egg\\pyVHR\\analysis\\multi_method_suite.py:364: FutureWarning: The frame.append method is deprecated and will be removed from pandas in a future version. Use pandas.concat instead.\n",
      "  self.dataFrame = self.dataFrame.append(\n"
     ]
    },
    {
     "name": "stdout",
     "output_type": "stream",
     "text": [
      "## Results for method: Multi-Method\n",
      "\n",
      "    * Errors: RMSE = 10.41, MAE = 4.99, MAX = 43.81, PCC = 0.41, CCC = 0.29, SNR = -1.89\n",
      "\n",
      "## videoID: 36\n",
      "D:\\OneDrive - Heriot-Watt University\\Computer Science Uni\\Year 4\\Datasets\\UBFC_DATASET\\DATASET_2\\subject47\\vid.avi\n",
      "## Computing method: CUPY_CHROM_FILTER\n",
      "  pre-filter: BPFILTER\n",
      "  post-filter: BPFILTER\n",
      "## Computing method: CUPY_POS_FILTER\n",
      "  pre-filter: BPFILTER\n",
      "  post-filter: BPFILTER\n",
      "## Computing method: CPU_PCA_ALL\n"
     ]
    },
    {
     "name": "stderr",
     "output_type": "stream",
     "text": [
      "D:\\anaconda3\\envs\\pyvhr\\lib\\site-packages\\pyvhr-1.0.2-py3.8.egg\\pyVHR\\analysis\\multi_method_suite.py:364: FutureWarning: The frame.append method is deprecated and will be removed from pandas in a future version. Use pandas.concat instead.\n",
      "  self.dataFrame = self.dataFrame.append(\n"
     ]
    },
    {
     "name": "stdout",
     "output_type": "stream",
     "text": [
      "## Results for method: CUPY_CHROM_FILTER\n",
      "\n",
      "    * Errors: RMSE = 3.54, MAE = 1.68, MAX = 20.19, PCC = 0.87, CCC = 0.87, SNR = -1.58\n"
     ]
    },
    {
     "name": "stderr",
     "output_type": "stream",
     "text": [
      "D:\\anaconda3\\envs\\pyvhr\\lib\\site-packages\\pyvhr-1.0.2-py3.8.egg\\pyVHR\\analysis\\multi_method_suite.py:364: FutureWarning: The frame.append method is deprecated and will be removed from pandas in a future version. Use pandas.concat instead.\n",
      "  self.dataFrame = self.dataFrame.append(\n"
     ]
    },
    {
     "name": "stdout",
     "output_type": "stream",
     "text": [
      "## Results for method: CUPY_POS_FILTER\n",
      "\n",
      "    * Errors: RMSE = 4.78, MAE = 3.36, MAX = 15.65, PCC = 0.81, CCC = 0.74, SNR = -1.58\n"
     ]
    },
    {
     "name": "stderr",
     "output_type": "stream",
     "text": [
      "D:\\anaconda3\\envs\\pyvhr\\lib\\site-packages\\pyvhr-1.0.2-py3.8.egg\\pyVHR\\analysis\\multi_method_suite.py:364: FutureWarning: The frame.append method is deprecated and will be removed from pandas in a future version. Use pandas.concat instead.\n",
      "  self.dataFrame = self.dataFrame.append(\n"
     ]
    },
    {
     "name": "stdout",
     "output_type": "stream",
     "text": [
      "## Results for method: CPU_PCA_ALL\n",
      "\n",
      "    * Errors: RMSE = 3.82, MAE = 2.36, MAX = 19.32, PCC = 0.86, CCC = 0.85, SNR = -1.58\n"
     ]
    },
    {
     "name": "stderr",
     "output_type": "stream",
     "text": [
      "D:\\anaconda3\\envs\\pyvhr\\lib\\site-packages\\pyvhr-1.0.2-py3.8.egg\\pyVHR\\analysis\\multi_method_suite.py:364: FutureWarning: The frame.append method is deprecated and will be removed from pandas in a future version. Use pandas.concat instead.\n",
      "  self.dataFrame = self.dataFrame.append(\n"
     ]
    },
    {
     "name": "stdout",
     "output_type": "stream",
     "text": [
      "## Results for method: Multi-Method\n",
      "\n",
      "    * Errors: RMSE = 3.49, MAE = 1.88, MAX = 19.32, PCC = 0.87, CCC = 0.87, SNR = -1.58\n",
      "\n",
      "## videoID: 37\n",
      "D:\\OneDrive - Heriot-Watt University\\Computer Science Uni\\Year 4\\Datasets\\UBFC_DATASET\\DATASET_2\\subject48\\vid.avi\n",
      "## Computing method: CUPY_CHROM_FILTER\n",
      "  pre-filter: BPFILTER\n",
      "  post-filter: BPFILTER\n",
      "## Computing method: CUPY_POS_FILTER\n",
      "  pre-filter: BPFILTER\n",
      "  post-filter: BPFILTER\n",
      "## Computing method: CPU_PCA_ALL\n"
     ]
    },
    {
     "name": "stderr",
     "output_type": "stream",
     "text": [
      "D:\\anaconda3\\envs\\pyvhr\\lib\\site-packages\\pyvhr-1.0.2-py3.8.egg\\pyVHR\\analysis\\multi_method_suite.py:364: FutureWarning: The frame.append method is deprecated and will be removed from pandas in a future version. Use pandas.concat instead.\n",
      "  self.dataFrame = self.dataFrame.append(\n"
     ]
    },
    {
     "name": "stdout",
     "output_type": "stream",
     "text": [
      "## Results for method: CUPY_CHROM_FILTER\n",
      "\n",
      "    * Errors: RMSE = 1.95, MAE = 1.51, MAX = 5.19, PCC = 0.80, CCC = 0.74, SNR = -5.43\n"
     ]
    },
    {
     "name": "stderr",
     "output_type": "stream",
     "text": [
      "D:\\anaconda3\\envs\\pyvhr\\lib\\site-packages\\pyvhr-1.0.2-py3.8.egg\\pyVHR\\analysis\\multi_method_suite.py:364: FutureWarning: The frame.append method is deprecated and will be removed from pandas in a future version. Use pandas.concat instead.\n",
      "  self.dataFrame = self.dataFrame.append(\n"
     ]
    },
    {
     "name": "stdout",
     "output_type": "stream",
     "text": [
      "## Results for method: CUPY_POS_FILTER\n",
      "\n",
      "    * Errors: RMSE = 16.15, MAE = 15.16, MAX = 26.16, PCC = 0.12, CCC = 0.01, SNR = -5.43\n"
     ]
    },
    {
     "name": "stderr",
     "output_type": "stream",
     "text": [
      "D:\\anaconda3\\envs\\pyvhr\\lib\\site-packages\\pyvhr-1.0.2-py3.8.egg\\pyVHR\\analysis\\multi_method_suite.py:364: FutureWarning: The frame.append method is deprecated and will be removed from pandas in a future version. Use pandas.concat instead.\n",
      "  self.dataFrame = self.dataFrame.append(\n"
     ]
    },
    {
     "name": "stdout",
     "output_type": "stream",
     "text": [
      "## Results for method: CPU_PCA_ALL\n",
      "\n",
      "    * Errors: RMSE = 36.42, MAE = 35.70, MAX = 50.17, PCC = 0.27, CCC = 0.01, SNR = -5.43\n"
     ]
    },
    {
     "name": "stderr",
     "output_type": "stream",
     "text": [
      "D:\\anaconda3\\envs\\pyvhr\\lib\\site-packages\\pyvhr-1.0.2-py3.8.egg\\pyVHR\\analysis\\multi_method_suite.py:364: FutureWarning: The frame.append method is deprecated and will be removed from pandas in a future version. Use pandas.concat instead.\n",
      "  self.dataFrame = self.dataFrame.append(\n"
     ]
    },
    {
     "name": "stdout",
     "output_type": "stream",
     "text": [
      "## Results for method: Multi-Method\n",
      "\n",
      "    * Errors: RMSE = 13.97, MAE = 11.31, MAX = 30.19, PCC = 0.30, CCC = 0.07, SNR = -5.43\n",
      "\n",
      "## videoID: 38\n",
      "D:\\OneDrive - Heriot-Watt University\\Computer Science Uni\\Year 4\\Datasets\\UBFC_DATASET\\DATASET_2\\subject49\\vid.avi\n",
      "## Computing method: CUPY_CHROM_FILTER\n",
      "  pre-filter: BPFILTER\n",
      "  post-filter: BPFILTER\n",
      "## Computing method: CUPY_POS_FILTER\n",
      "  pre-filter: BPFILTER\n",
      "  post-filter: BPFILTER\n",
      "## Computing method: CPU_PCA_ALL\n"
     ]
    },
    {
     "name": "stderr",
     "output_type": "stream",
     "text": [
      "D:\\anaconda3\\envs\\pyvhr\\lib\\site-packages\\pyvhr-1.0.2-py3.8.egg\\pyVHR\\analysis\\multi_method_suite.py:364: FutureWarning: The frame.append method is deprecated and will be removed from pandas in a future version. Use pandas.concat instead.\n",
      "  self.dataFrame = self.dataFrame.append(\n"
     ]
    },
    {
     "name": "stdout",
     "output_type": "stream",
     "text": [
      "## Results for method: CUPY_CHROM_FILTER\n",
      "\n",
      "    * Errors: RMSE = 1.67, MAE = 1.23, MAX = 5.68, PCC = 0.90, CCC = 0.87, SNR = -3.90\n"
     ]
    },
    {
     "name": "stderr",
     "output_type": "stream",
     "text": [
      "D:\\anaconda3\\envs\\pyvhr\\lib\\site-packages\\pyvhr-1.0.2-py3.8.egg\\pyVHR\\analysis\\multi_method_suite.py:364: FutureWarning: The frame.append method is deprecated and will be removed from pandas in a future version. Use pandas.concat instead.\n",
      "  self.dataFrame = self.dataFrame.append(\n"
     ]
    },
    {
     "name": "stdout",
     "output_type": "stream",
     "text": [
      "## Results for method: CUPY_POS_FILTER\n",
      "\n",
      "    * Errors: RMSE = 8.36, MAE = 6.40, MAX = 21.22, PCC = 0.15, CCC = 0.07, SNR = -3.90\n"
     ]
    },
    {
     "name": "stderr",
     "output_type": "stream",
     "text": [
      "D:\\anaconda3\\envs\\pyvhr\\lib\\site-packages\\pyvhr-1.0.2-py3.8.egg\\pyVHR\\analysis\\multi_method_suite.py:364: FutureWarning: The frame.append method is deprecated and will be removed from pandas in a future version. Use pandas.concat instead.\n",
      "  self.dataFrame = self.dataFrame.append(\n"
     ]
    },
    {
     "name": "stdout",
     "output_type": "stream",
     "text": [
      "## Results for method: CPU_PCA_ALL\n",
      "\n",
      "    * Errors: RMSE = 21.58, MAE = 15.86, MAX = 47.25, PCC = 0.16, CCC = 0.03, SNR = -3.90\n"
     ]
    },
    {
     "name": "stderr",
     "output_type": "stream",
     "text": [
      "D:\\anaconda3\\envs\\pyvhr\\lib\\site-packages\\pyvhr-1.0.2-py3.8.egg\\pyVHR\\analysis\\multi_method_suite.py:364: FutureWarning: The frame.append method is deprecated and will be removed from pandas in a future version. Use pandas.concat instead.\n",
      "  self.dataFrame = self.dataFrame.append(\n"
     ]
    },
    {
     "name": "stdout",
     "output_type": "stream",
     "text": [
      "## Results for method: Multi-Method\n",
      "\n",
      "    * Errors: RMSE = 9.71, MAE = 5.78, MAX = 32.42, PCC = 0.24, CCC = 0.12, SNR = -3.90\n",
      "\n",
      "## videoID: 39\n",
      "D:\\OneDrive - Heriot-Watt University\\Computer Science Uni\\Year 4\\Datasets\\UBFC_DATASET\\DATASET_2\\subject5\\vid.avi\n",
      "## Computing method: CUPY_CHROM_FILTER\n",
      "  pre-filter: BPFILTER\n",
      "  post-filter: BPFILTER\n",
      "## Computing method: CUPY_POS_FILTER\n",
      "  pre-filter: BPFILTER\n",
      "  post-filter: BPFILTER\n",
      "## Computing method: CPU_PCA_ALL\n"
     ]
    },
    {
     "name": "stderr",
     "output_type": "stream",
     "text": [
      "D:\\anaconda3\\envs\\pyvhr\\lib\\site-packages\\pyvhr-1.0.2-py3.8.egg\\pyVHR\\analysis\\multi_method_suite.py:364: FutureWarning: The frame.append method is deprecated and will be removed from pandas in a future version. Use pandas.concat instead.\n",
      "  self.dataFrame = self.dataFrame.append(\n"
     ]
    },
    {
     "name": "stdout",
     "output_type": "stream",
     "text": [
      "## Results for method: CUPY_CHROM_FILTER\n",
      "\n",
      "    * Errors: RMSE = 1.87, MAE = 1.54, MAX = 4.43, PCC = 0.85, CCC = 0.81, SNR = -1.73\n"
     ]
    },
    {
     "name": "stderr",
     "output_type": "stream",
     "text": [
      "D:\\anaconda3\\envs\\pyvhr\\lib\\site-packages\\pyvhr-1.0.2-py3.8.egg\\pyVHR\\analysis\\multi_method_suite.py:364: FutureWarning: The frame.append method is deprecated and will be removed from pandas in a future version. Use pandas.concat instead.\n",
      "  self.dataFrame = self.dataFrame.append(\n"
     ]
    },
    {
     "name": "stdout",
     "output_type": "stream",
     "text": [
      "## Results for method: CUPY_POS_FILTER\n",
      "\n",
      "    * Errors: RMSE = 3.58, MAE = 2.81, MAX = 9.52, PCC = 0.37, CCC = 0.36, SNR = -1.73\n"
     ]
    },
    {
     "name": "stderr",
     "output_type": "stream",
     "text": [
      "D:\\anaconda3\\envs\\pyvhr\\lib\\site-packages\\pyvhr-1.0.2-py3.8.egg\\pyVHR\\analysis\\multi_method_suite.py:364: FutureWarning: The frame.append method is deprecated and will be removed from pandas in a future version. Use pandas.concat instead.\n",
      "  self.dataFrame = self.dataFrame.append(\n"
     ]
    },
    {
     "name": "stdout",
     "output_type": "stream",
     "text": [
      "## Results for method: CPU_PCA_ALL\n",
      "\n",
      "    * Errors: RMSE = 1.90, MAE = 1.53, MAX = 4.43, PCC = 0.85, CCC = 0.79, SNR = -1.73\n"
     ]
    },
    {
     "name": "stderr",
     "output_type": "stream",
     "text": [
      "D:\\anaconda3\\envs\\pyvhr\\lib\\site-packages\\pyvhr-1.0.2-py3.8.egg\\pyVHR\\analysis\\multi_method_suite.py:364: FutureWarning: The frame.append method is deprecated and will be removed from pandas in a future version. Use pandas.concat instead.\n",
      "  self.dataFrame = self.dataFrame.append(\n"
     ]
    },
    {
     "name": "stdout",
     "output_type": "stream",
     "text": [
      "## Results for method: Multi-Method\n",
      "\n",
      "    * Errors: RMSE = 1.91, MAE = 1.56, MAX = 4.43, PCC = 0.84, CCC = 0.79, SNR = -1.73\n",
      "\n",
      "## videoID: 40\n",
      "D:\\OneDrive - Heriot-Watt University\\Computer Science Uni\\Year 4\\Datasets\\UBFC_DATASET\\DATASET_2\\subject8\\vid.avi\n",
      "## Computing method: CUPY_CHROM_FILTER\n",
      "  pre-filter: BPFILTER\n",
      "  post-filter: BPFILTER\n",
      "## Computing method: CUPY_POS_FILTER\n",
      "  pre-filter: BPFILTER\n",
      "  post-filter: BPFILTER\n",
      "## Computing method: CPU_PCA_ALL\n"
     ]
    },
    {
     "name": "stderr",
     "output_type": "stream",
     "text": [
      "D:\\anaconda3\\envs\\pyvhr\\lib\\site-packages\\pyvhr-1.0.2-py3.8.egg\\pyVHR\\analysis\\multi_method_suite.py:364: FutureWarning: The frame.append method is deprecated and will be removed from pandas in a future version. Use pandas.concat instead.\n",
      "  self.dataFrame = self.dataFrame.append(\n"
     ]
    },
    {
     "name": "stdout",
     "output_type": "stream",
     "text": [
      "## Results for method: CUPY_CHROM_FILTER\n",
      "\n",
      "    * Errors: RMSE = 1.14, MAE = 0.87, MAX = 3.92, PCC = 0.97, CCC = 0.96, SNR = -2.92\n"
     ]
    },
    {
     "name": "stderr",
     "output_type": "stream",
     "text": [
      "D:\\anaconda3\\envs\\pyvhr\\lib\\site-packages\\pyvhr-1.0.2-py3.8.egg\\pyVHR\\analysis\\multi_method_suite.py:364: FutureWarning: The frame.append method is deprecated and will be removed from pandas in a future version. Use pandas.concat instead.\n",
      "  self.dataFrame = self.dataFrame.append(\n"
     ]
    },
    {
     "name": "stdout",
     "output_type": "stream",
     "text": [
      "## Results for method: CUPY_POS_FILTER\n",
      "\n",
      "    * Errors: RMSE = 11.73, MAE = 8.32, MAX = 37.32, PCC = 0.09, CCC = 0.04, SNR = -2.92\n"
     ]
    },
    {
     "name": "stderr",
     "output_type": "stream",
     "text": [
      "D:\\anaconda3\\envs\\pyvhr\\lib\\site-packages\\pyvhr-1.0.2-py3.8.egg\\pyVHR\\analysis\\multi_method_suite.py:364: FutureWarning: The frame.append method is deprecated and will be removed from pandas in a future version. Use pandas.concat instead.\n",
      "  self.dataFrame = self.dataFrame.append(\n"
     ]
    },
    {
     "name": "stdout",
     "output_type": "stream",
     "text": [
      "## Results for method: CPU_PCA_ALL\n",
      "\n",
      "    * Errors: RMSE = 18.72, MAE = 8.71, MAX = 57.71, PCC = 0.04, CCC = 0.02, SNR = -2.92\n"
     ]
    },
    {
     "name": "stderr",
     "output_type": "stream",
     "text": [
      "D:\\anaconda3\\envs\\pyvhr\\lib\\site-packages\\pyvhr-1.0.2-py3.8.egg\\pyVHR\\analysis\\multi_method_suite.py:364: FutureWarning: The frame.append method is deprecated and will be removed from pandas in a future version. Use pandas.concat instead.\n",
      "  self.dataFrame = self.dataFrame.append(\n"
     ]
    },
    {
     "name": "stdout",
     "output_type": "stream",
     "text": [
      "## Results for method: Multi-Method\n",
      "\n",
      "    * Errors: RMSE = 10.04, MAE = 4.59, MAX = 35.82, PCC = 0.18, CCC = 0.11, SNR = -2.92\n",
      "\n",
      "## videoID: 41\n",
      "D:\\OneDrive - Heriot-Watt University\\Computer Science Uni\\Year 4\\Datasets\\UBFC_DATASET\\DATASET_2\\subject9\\vid.avi\n",
      "## Computing method: CUPY_CHROM_FILTER\n",
      "  pre-filter: BPFILTER\n",
      "  post-filter: BPFILTER\n",
      "## Computing method: CUPY_POS_FILTER\n",
      "  pre-filter: BPFILTER\n",
      "  post-filter: BPFILTER\n",
      "## Computing method: CPU_PCA_ALL\n"
     ]
    },
    {
     "name": "stderr",
     "output_type": "stream",
     "text": [
      "D:\\anaconda3\\envs\\pyvhr\\lib\\site-packages\\pyvhr-1.0.2-py3.8.egg\\pyVHR\\analysis\\multi_method_suite.py:364: FutureWarning: The frame.append method is deprecated and will be removed from pandas in a future version. Use pandas.concat instead.\n",
      "  self.dataFrame = self.dataFrame.append(\n"
     ]
    },
    {
     "name": "stdout",
     "output_type": "stream",
     "text": [
      "## Results for method: CUPY_CHROM_FILTER\n",
      "\n",
      "    * Errors: RMSE = 2.38, MAE = 1.94, MAX = 6.84, PCC = 0.97, CCC = 0.95, SNR = -4.10\n"
     ]
    },
    {
     "name": "stderr",
     "output_type": "stream",
     "text": [
      "D:\\anaconda3\\envs\\pyvhr\\lib\\site-packages\\pyvhr-1.0.2-py3.8.egg\\pyVHR\\analysis\\multi_method_suite.py:364: FutureWarning: The frame.append method is deprecated and will be removed from pandas in a future version. Use pandas.concat instead.\n",
      "  self.dataFrame = self.dataFrame.append(\n"
     ]
    },
    {
     "name": "stdout",
     "output_type": "stream",
     "text": [
      "## Results for method: CUPY_POS_FILTER\n",
      "\n",
      "    * Errors: RMSE = 11.48, MAE = 8.46, MAX = 31.95, PCC = 0.34, CCC = 0.23, SNR = -4.10\n"
     ]
    },
    {
     "name": "stderr",
     "output_type": "stream",
     "text": [
      "D:\\anaconda3\\envs\\pyvhr\\lib\\site-packages\\pyvhr-1.0.2-py3.8.egg\\pyVHR\\analysis\\multi_method_suite.py:364: FutureWarning: The frame.append method is deprecated and will be removed from pandas in a future version. Use pandas.concat instead.\n",
      "  self.dataFrame = self.dataFrame.append(\n"
     ]
    },
    {
     "name": "stdout",
     "output_type": "stream",
     "text": [
      "## Results for method: CPU_PCA_ALL\n",
      "\n",
      "    * Errors: RMSE = 18.96, MAE = 11.21, MAX = 50.92, PCC = 0.18, CCC = 0.10, SNR = -4.10\n"
     ]
    },
    {
     "name": "stderr",
     "output_type": "stream",
     "text": [
      "D:\\anaconda3\\envs\\pyvhr\\lib\\site-packages\\pyvhr-1.0.2-py3.8.egg\\pyVHR\\analysis\\multi_method_suite.py:364: FutureWarning: The frame.append method is deprecated and will be removed from pandas in a future version. Use pandas.concat instead.\n",
      "  self.dataFrame = self.dataFrame.append(\n"
     ]
    },
    {
     "name": "stdout",
     "output_type": "stream",
     "text": [
      "## Results for method: Multi-Method\n",
      "\n",
      "    * Errors: RMSE = 7.20, MAE = 4.76, MAX = 25.52, PCC = 0.71, CCC = 0.59, SNR = -4.10\n"
     ]
    },
    {
     "name": "stderr",
     "output_type": "stream",
     "text": [
      "D:\\anaconda3\\envs\\pyvhr\\lib\\site-packages\\pyvhr-1.0.2-py3.8.egg\\pyVHR\\analysis\\multi_method_suite.py:399: PerformanceWarning: \n",
      "your performance may suffer as PyTables will pickle object types that it cannot\n",
      "map directly to c-types [inferred_type->mixed,key->block1_values] [items->Index(['method', 'dataset', 'sigFilename', 'videoFilename', 'RMSE', 'MAE',\n",
      "       'PCC', 'MAX', 'bpmGT', 'bpmES', 'timeGT', 'timeES'],\n",
      "      dtype='object')]\n",
      "\n",
      "  self.dataFrame.to_hdf(outFilename, key='df', mode='w')\n"
     ]
    }
   ],
   "source": [
    "from pyVHR.analysis.multi_method_suite import MultiMethodSuite\n",
    "\n",
    "multliMethodPipeline = MultiMethodSuite(configFilename='configs/ubfc2.cfg')\n",
    "res = multliMethodPipeline.start(verb=1)\n",
    "res.saveResults('multiMethodResults.h5')"
   ]
  },
  {
   "cell_type": "code",
   "execution_count": null,
   "metadata": {},
   "outputs": [],
   "source": [
    "pipeline = Pipeline()\n",
    "res = pipeline.run_on_dataset('configs/ubfc2.cfg', verb=True)\n",
    "res.saveResults()"
   ]
  }
 ],
 "metadata": {
  "interpreter": {
   "hash": "efd6481b438f0d4c3c10aea05c2845bcb9db3ae8e5e587d9844e916e8803d502"
  },
  "kernelspec": {
   "display_name": "Python 3.8.13 ('pyvhr')",
   "language": "python",
   "name": "python3"
  },
  "language_info": {
   "codemirror_mode": {
    "name": "ipython",
    "version": 3
   },
   "file_extension": ".py",
   "mimetype": "text/x-python",
   "name": "python",
   "nbconvert_exporter": "python",
   "pygments_lexer": "ipython3",
   "version": "3.8.13"
  },
  "orig_nbformat": 4
 },
 "nbformat": 4,
 "nbformat_minor": 2
}
